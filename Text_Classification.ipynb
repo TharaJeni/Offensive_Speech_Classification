{
  "nbformat": 4,
  "nbformat_minor": 0,
  "metadata": {
    "colab": {
      "provenance": []
    },
    "kernelspec": {
      "name": "python3",
      "display_name": "Python 3"
    },
    "language_info": {
      "name": "python"
    }
  },
  "cells": [
    {
      "cell_type": "markdown",
      "source": [
        "# **Register Number:** 2200940"
      ],
      "metadata": {
        "id": "6LkzYzYK-lqG"
      }
    },
    {
      "cell_type": "markdown",
      "source": [
        "1. Common Codes\n",
        "2. Method/model 1 Specific Codes\n",
        "3. Method/model 2 Specific Codes\n",
        "4. Other Method/model Codes, if any"
      ],
      "metadata": {
        "id": "aLdhnG2mGkZd"
      }
    },
    {
      "cell_type": "markdown",
      "source": [
        "# **Installing/Importing All Required Libraries**"
      ],
      "metadata": {
        "id": "9sgplqhIIdMG"
      }
    },
    {
      "cell_type": "code",
      "execution_count": 1,
      "metadata": {
        "colab": {
          "base_uri": "https://localhost:8080/"
        },
        "id": "9sq0VBHdGl6L",
        "outputId": "70e060d6-ee5a-4ac4-838d-3f09b1493dd3"
      },
      "outputs": [
        {
          "output_type": "stream",
          "name": "stdout",
          "text": [
            "Looking in indexes: https://pypi.org/simple, https://us-python.pkg.dev/colab-wheels/public/simple/\n",
            "Requirement already satisfied: transformers in /usr/local/lib/python3.9/dist-packages (4.28.1)\n",
            "Requirement already satisfied: tqdm>=4.27 in /usr/local/lib/python3.9/dist-packages (from transformers) (4.65.0)\n",
            "Requirement already satisfied: huggingface-hub<1.0,>=0.11.0 in /usr/local/lib/python3.9/dist-packages (from transformers) (0.14.0)\n",
            "Requirement already satisfied: numpy>=1.17 in /usr/local/lib/python3.9/dist-packages (from transformers) (1.22.4)\n",
            "Requirement already satisfied: packaging>=20.0 in /usr/local/lib/python3.9/dist-packages (from transformers) (23.1)\n",
            "Requirement already satisfied: pyyaml>=5.1 in /usr/local/lib/python3.9/dist-packages (from transformers) (6.0)\n",
            "Requirement already satisfied: requests in /usr/local/lib/python3.9/dist-packages (from transformers) (2.27.1)\n",
            "Requirement already satisfied: tokenizers!=0.11.3,<0.14,>=0.11.1 in /usr/local/lib/python3.9/dist-packages (from transformers) (0.13.3)\n",
            "Requirement already satisfied: filelock in /usr/local/lib/python3.9/dist-packages (from transformers) (3.11.0)\n",
            "Requirement already satisfied: regex!=2019.12.17 in /usr/local/lib/python3.9/dist-packages (from transformers) (2022.10.31)\n",
            "Requirement already satisfied: fsspec in /usr/local/lib/python3.9/dist-packages (from huggingface-hub<1.0,>=0.11.0->transformers) (2023.4.0)\n",
            "Requirement already satisfied: typing-extensions>=3.7.4.3 in /usr/local/lib/python3.9/dist-packages (from huggingface-hub<1.0,>=0.11.0->transformers) (4.5.0)\n",
            "Requirement already satisfied: idna<4,>=2.5 in /usr/local/lib/python3.9/dist-packages (from requests->transformers) (3.4)\n",
            "Requirement already satisfied: urllib3<1.27,>=1.21.1 in /usr/local/lib/python3.9/dist-packages (from requests->transformers) (1.26.15)\n",
            "Requirement already satisfied: certifi>=2017.4.17 in /usr/local/lib/python3.9/dist-packages (from requests->transformers) (2022.12.7)\n",
            "Requirement already satisfied: charset-normalizer~=2.0.0 in /usr/local/lib/python3.9/dist-packages (from requests->transformers) (2.0.12)\n"
          ]
        }
      ],
      "source": [
        "!pip install transformers"
      ]
    },
    {
      "cell_type": "code",
      "source": [
        "import pandas as pd\n",
        "import numpy as np\n",
        "import pickle \n",
        "import os\n",
        "import io \n",
        "import spacy\n",
        "import re\n",
        "import string\n",
        "import matplotlib.pyplot as plt\n",
        "import seaborn as sns\n",
        "nlp = spacy.load(\"en_core_web_sm\")\n",
        "stop_words = nlp.Defaults.stop_words\n",
        "punctuations = string.punctuation\n",
        "from sklearn import svm\n",
        "from sklearn.ensemble import ExtraTreesClassifier\n",
        "from sklearn.feature_extraction.text import CountVectorizer\n",
        "from sklearn.feature_extraction.text import TfidfVectorizer\n",
        "from sklearn.pipeline import Pipeline\n",
        "from sklearn.metrics import confusion_matrix, f1_score, accuracy_score, classification_report, precision_score, recall_score\n",
        "from sklearn.feature_extraction.text import TfidfVectorizer\n",
        "from sklearn.pipeline import Pipeline\n",
        "from sklearn.feature_extraction.text import CountVectorizer\n",
        "from sklearn.feature_extraction.text import TfidfTransformer\n",
        "from sklearn.linear_model import SGDClassifier\n",
        "from sklearn.naive_bayes import GaussianNB\n",
        "from sklearn.metrics import f1_score\n",
        "from sklearn.gaussian_process import GaussianProcessRegressor\n",
        "from sklearn.gaussian_process.kernels import RBF"
      ],
      "metadata": {
        "id": "AWrAd7UfJDcm"
      },
      "execution_count": 2,
      "outputs": []
    },
    {
      "cell_type": "markdown",
      "source": [
        "Assigning student id as a variable to set as seed "
      ],
      "metadata": {
        "id": "-eUx54SUHzKs"
      }
    },
    {
      "cell_type": "code",
      "source": [
        "student_id = 2200940\n",
        "np.random.seed(student_id)"
      ],
      "metadata": {
        "id": "DOm9UGeDHxtm"
      },
      "execution_count": 3,
      "outputs": []
    },
    {
      "cell_type": "markdown",
      "source": [
        "# **Common Codes**"
      ],
      "metadata": {
        "id": "AQjgRUYHIHq8"
      }
    },
    {
      "cell_type": "markdown",
      "source": [
        "Outline of this section,\n",
        "\n",
        "* Reading all data files\n",
        "* Splitting train data\n",
        "* Defining Performance Matrics function\n",
        "* Printing Dataset Statistics\n",
        "* Data Visualization\n"
      ],
      "metadata": {
        "id": "ahDapYcQIRnz"
      }
    },
    {
      "cell_type": "markdown",
      "source": [
        "First allowing the GDrive access and setting data and model paths"
      ],
      "metadata": {
        "id": "o3NxHiQjIqpU"
      }
    },
    {
      "cell_type": "code",
      "source": [
        "# Mount Google Drive\n",
        "from google.colab import drive\n",
        "drive.mount('/content/gdrive', force_remount=True)"
      ],
      "metadata": {
        "colab": {
          "base_uri": "https://localhost:8080/"
        },
        "id": "xzOH9eGWJQvt",
        "outputId": "42800e79-2e0d-4ce0-cd59-9e56340d141d"
      },
      "execution_count": 4,
      "outputs": [
        {
          "output_type": "stream",
          "name": "stdout",
          "text": [
            "Mounted at /content/gdrive\n"
          ]
        }
      ]
    },
    {
      "cell_type": "code",
      "source": [
        "GOOGLE_DRIVE_PATH_AFTER_MYDRIVE = os.path.join('./CE807/Assignment2/',str(student_id)) # Make sure to update with your student_id and student_id is an integer\n",
        "GOOGLE_DRIVE_PATH = os.path.join('gdrive', 'MyDrive', GOOGLE_DRIVE_PATH_AFTER_MYDRIVE)\n",
        "print('List files: ', os.listdir(GOOGLE_DRIVE_PATH))\n",
        "\n",
        "train_file = os.path.join(GOOGLE_DRIVE_PATH, 'train.csv') # This is 100% of data\n",
        "train_25_file = os.path.join(GOOGLE_DRIVE_PATH, 'train_25.csv') # This is 25% of data\n",
        "train_50_file = os.path.join(GOOGLE_DRIVE_PATH, 'train_50.csv') # This is 50% of data\n",
        "train_75_file = os.path.join(GOOGLE_DRIVE_PATH, 'train_75.csv') # This is 75% of data\n",
        "train_100_file = os.path.join(GOOGLE_DRIVE_PATH, 'train_100.csv') # This is also 100% of data as train.csv\n",
        "  \n",
        "######################################################################################3\n",
        "print('-'*100)\n",
        "print('Train file: ', train_file)\n",
        "print('Train 25% file: ', train_25_file)\n",
        "print('Train 50% file: ', train_50_file)\n",
        "print('Train 75% file: ', train_75_file)\n",
        "print('Train 100% file: ', train_100_file)\n",
        "\n",
        "val_file = os.path.join(GOOGLE_DRIVE_PATH, 'valid.csv')\n",
        "print('Validation file: ', val_file)\n",
        "\n",
        "test_file = os.path.join(GOOGLE_DRIVE_PATH, 'test.csv')\n",
        "print('Test file: ', test_file)\n",
        "\n",
        "#################################################################################################################\n",
        "print('-'*100)\n",
        "MODEL_1_DIRECTORY = os.path.join(GOOGLE_DRIVE_PATH, 'models', '1') # Model 1 directory\n",
        "print('Model 1 directory: ', MODEL_1_DIRECTORY)\n",
        "\n",
        "MODEL_1_25_DIRECTORY = os.path.join(MODEL_1_DIRECTORY,'25') # Model 1 trained using 25% of train data directory\n",
        "print('Model 1 directory with 25% data: ', MODEL_1_25_DIRECTORY)\n",
        "\n",
        "MODEL_1_50_DIRECTORY = os.path.join(MODEL_1_DIRECTORY,'50') # Model 1 trained using 50% of train data directory\n",
        "print('Model 1 directory with 50% data: ', MODEL_1_50_DIRECTORY)\n",
        "\n",
        "MODEL_1_75_DIRECTORY = os.path.join(MODEL_1_DIRECTORY,'75') # Model 1 trained using 75% of train data directory\n",
        "print('Model 1 directory with 75% data: ', MODEL_1_75_DIRECTORY)\n",
        "\n",
        "MODEL_1_100_DIRECTORY = os.path.join(MODEL_1_DIRECTORY,'100') # Model 1 trained using 100% of train data directory\n",
        "print('Model 1 directory with 100% data: ', MODEL_1_100_DIRECTORY)\n",
        "\n",
        "#################################################################################################################\n",
        "print('-'*100)\n",
        "MODEL_2_DIRECTORY = os.path.join(GOOGLE_DRIVE_PATH, 'models', '2') # Model 1 directory\n",
        "print('Model 2 directory: ', MODEL_2_DIRECTORY)\n",
        "\n",
        "MODEL_2_25_DIRECTORY = os.path.join(MODEL_2_DIRECTORY,'25') # Model 1 trained using 25% of train data directory\n",
        "print('Model 2 directory with 25% data: ', MODEL_2_25_DIRECTORY)\n",
        "\n",
        "MODEL_2_50_DIRECTORY = os.path.join(MODEL_2_DIRECTORY,'50') # Model 1 trained using 50% of train data directory\n",
        "print('Model 2 directory with 50% data: ', MODEL_2_50_DIRECTORY)\n",
        "\n",
        "MODEL_2_75_DIRECTORY = os.path.join(MODEL_2_DIRECTORY,'75') # Model 1 trained using 75% of train data directory\n",
        "print('Model 2 directory with 75% data: ', MODEL_2_75_DIRECTORY)\n",
        "\n",
        "MODEL_2_100_DIRECTORY = os.path.join(MODEL_2_DIRECTORY,'100') # Model 1 trained using 100% of train data directory\n",
        "print('Model 2 directory with 100% data: ', MODEL_2_100_DIRECTORY)\n",
        "\n",
        "#####################################################################################################################\n",
        "print('-'*100)\n",
        "model_1_25_output_test_file = os.path.join(MODEL_1_25_DIRECTORY, 'output_test.csv') # Output file using Model 1 trained using 25% of train data \n",
        "print('Output file name using model 1 using 25% of train data: ',model_1_25_output_test_file)\n",
        "\n",
        "model_1_50_output_test_file = os.path.join(MODEL_1_50_DIRECTORY, 'output_test.csv') # Output file using Model 1 trained using 50% of train data \n",
        "print('Output file name using model 1 using 50% of train data: ',model_1_50_output_test_file)\n",
        "\n",
        "model_1_75_output_test_file = os.path.join(MODEL_1_75_DIRECTORY, 'output_test.csv') # Output file using Model 1 trained using 75% of train data \n",
        "print('Output file name using model 1 using 75% of train data: ',model_1_75_output_test_file)\n",
        "\n",
        "model_1_100_output_test_file = os.path.join(MODEL_1_100_DIRECTORY, 'output_test.csv') # Output file using Model 1 trained using 100% of train data \n",
        "print('Output file name using model 1 using 100% of train data: ',model_1_100_output_test_file)\n",
        "\n",
        "##########################################################################################################################\n",
        "print('-'*100)\n",
        "model_2_25_output_test_file = os.path.join(MODEL_2_25_DIRECTORY, 'output_test.csv') # Output file using Model 1 trained using 25% of train data \n",
        "print('Output file name using model 2 using 25% of train data: ',model_2_25_output_test_file)\n",
        "\n",
        "model_2_50_output_test_file = os.path.join(MODEL_2_50_DIRECTORY, 'output_test.csv') # Output file using Model 1 trained using 50% of train data \n",
        "print('Output file name using model 2 using 50% of train data: ',model_2_50_output_test_file)\n",
        "\n",
        "model_2_75_output_test_file = os.path.join(MODEL_2_75_DIRECTORY, 'output_test.csv') # Output file using Model 1 trained using 75% of train data \n",
        "print('Output file name using model 2 using 75% of train data: ',model_2_75_output_test_file)\n",
        "\n",
        "model_2_100_output_test_file = os.path.join(MODEL_2_100_DIRECTORY, 'output_test.csv') # Output file using Model 1 trained using 100% of train data \n",
        "print('Output file name using model 2 using 100% of train data: ',model_2_100_output_test_file)"
      ],
      "metadata": {
        "colab": {
          "base_uri": "https://localhost:8080/"
        },
        "id": "7PhTVWIuI4FU",
        "outputId": "fb94f9e4-b70d-4e7d-fb91-0b325d322a69"
      },
      "execution_count": 5,
      "outputs": [
        {
          "output_type": "stream",
          "name": "stdout",
          "text": [
            "List files:  ['test.csv', 'valid.csv', 'train.csv', 'models', 'train_75.csv', 'train_50.csv', 'train_100.csv', 'train_25.csv']\n",
            "----------------------------------------------------------------------------------------------------\n",
            "Train file:  gdrive/MyDrive/./CE807/Assignment2/2200940/train.csv\n",
            "Train 25% file:  gdrive/MyDrive/./CE807/Assignment2/2200940/train_25.csv\n",
            "Train 50% file:  gdrive/MyDrive/./CE807/Assignment2/2200940/train_50.csv\n",
            "Train 75% file:  gdrive/MyDrive/./CE807/Assignment2/2200940/train_75.csv\n",
            "Train 100% file:  gdrive/MyDrive/./CE807/Assignment2/2200940/train_100.csv\n",
            "Validation file:  gdrive/MyDrive/./CE807/Assignment2/2200940/valid.csv\n",
            "Test file:  gdrive/MyDrive/./CE807/Assignment2/2200940/test.csv\n",
            "----------------------------------------------------------------------------------------------------\n",
            "Model 1 directory:  gdrive/MyDrive/./CE807/Assignment2/2200940/models/1\n",
            "Model 1 directory with 25% data:  gdrive/MyDrive/./CE807/Assignment2/2200940/models/1/25\n",
            "Model 1 directory with 50% data:  gdrive/MyDrive/./CE807/Assignment2/2200940/models/1/50\n",
            "Model 1 directory with 75% data:  gdrive/MyDrive/./CE807/Assignment2/2200940/models/1/75\n",
            "Model 1 directory with 100% data:  gdrive/MyDrive/./CE807/Assignment2/2200940/models/1/100\n",
            "----------------------------------------------------------------------------------------------------\n",
            "Model 2 directory:  gdrive/MyDrive/./CE807/Assignment2/2200940/models/2\n",
            "Model 2 directory with 25% data:  gdrive/MyDrive/./CE807/Assignment2/2200940/models/2/25\n",
            "Model 2 directory with 50% data:  gdrive/MyDrive/./CE807/Assignment2/2200940/models/2/50\n",
            "Model 2 directory with 75% data:  gdrive/MyDrive/./CE807/Assignment2/2200940/models/2/75\n",
            "Model 2 directory with 100% data:  gdrive/MyDrive/./CE807/Assignment2/2200940/models/2/100\n",
            "----------------------------------------------------------------------------------------------------\n",
            "Output file name using model 1 using 25% of train data:  gdrive/MyDrive/./CE807/Assignment2/2200940/models/1/25/output_test.csv\n",
            "Output file name using model 1 using 50% of train data:  gdrive/MyDrive/./CE807/Assignment2/2200940/models/1/50/output_test.csv\n",
            "Output file name using model 1 using 75% of train data:  gdrive/MyDrive/./CE807/Assignment2/2200940/models/1/75/output_test.csv\n",
            "Output file name using model 1 using 100% of train data:  gdrive/MyDrive/./CE807/Assignment2/2200940/models/1/100/output_test.csv\n",
            "----------------------------------------------------------------------------------------------------\n",
            "Output file name using model 2 using 25% of train data:  gdrive/MyDrive/./CE807/Assignment2/2200940/models/2/25/output_test.csv\n",
            "Output file name using model 2 using 50% of train data:  gdrive/MyDrive/./CE807/Assignment2/2200940/models/2/50/output_test.csv\n",
            "Output file name using model 2 using 75% of train data:  gdrive/MyDrive/./CE807/Assignment2/2200940/models/2/75/output_test.csv\n",
            "Output file name using model 2 using 100% of train data:  gdrive/MyDrive/./CE807/Assignment2/2200940/models/2/100/output_test.csv\n"
          ]
        }
      ]
    },
    {
      "cell_type": "markdown",
      "source": [
        "## Reading all data files"
      ],
      "metadata": {
        "id": "aYzipvzG05IS"
      }
    },
    {
      "cell_type": "markdown",
      "source": [
        "Here I am reading and printing the train, valid & test data files, where I am showing each data files, features and their shape."
      ],
      "metadata": {
        "id": "DuBRMc5V2rwv"
      }
    },
    {
      "cell_type": "code",
      "source": [
        "train = pd.read_csv(train_file)\n",
        "valid = pd.read_csv(val_file)\n",
        "test = pd.read_csv(test_file)\n",
        "\n",
        "print(\"-\"*70)\n",
        "print(\"\\t\\t\\t\\tTrain Data\")\n",
        "print(\"-\"*70)\n",
        "print(train)\n",
        "print(\"-\"*70)\n",
        "print(\"\\t\\t\\t\\tValid Data\")\n",
        "print(\"-\"*70)\n",
        "print(valid)\n",
        "print(\"-\"*70)\n",
        "print(\"\\t\\t\\t\\tTest Data\")\n",
        "print(\"-\"*70)\n",
        "print(test)\n",
        "print(\"-\"*70)"
      ],
      "metadata": {
        "colab": {
          "base_uri": "https://localhost:8080/"
        },
        "id": "dPReZtOK04qh",
        "outputId": "9ff4d04c-9e2e-4926-b42d-2851bb52f9b3"
      },
      "execution_count": 6,
      "outputs": [
        {
          "output_type": "stream",
          "name": "stdout",
          "text": [
            "----------------------------------------------------------------------\n",
            "\t\t\t\tTrain Data\n",
            "----------------------------------------------------------------------\n",
            "          id                                              tweet label\n",
            "0      42884  @USER I’m done with you as well. An INTENTIONA...   NOT\n",
            "1      92152  I now have over 6k followers.  Only 94k to go ...   NOT\n",
            "2      65475  @USER Tom was bought! He is more interested in...   NOT\n",
            "3      22144  @USER @USER Even her brother thinks she is a m...   OFF\n",
            "4      81048  @USER @USER @USER @USER @USER I can understand...   OFF\n",
            "...      ...                                                ...   ...\n",
            "12308  92805  And Soros money in their pocket. #maga🇺🇸🇺🇸🇺🇸🇺🇸...   NOT\n",
            "12309  35989  @USER ur a fucking dumbass fr. there’s no way ...   OFF\n",
            "12310  30188  .@USER They both want you to believe in yourse...   NOT\n",
            "12311  96815  @USER It's like a reading a leaflet from Antif...   OFF\n",
            "12312  10460  @USER And they have some of the strictest gun ...   OFF\n",
            "\n",
            "[12313 rows x 3 columns]\n",
            "----------------------------------------------------------------------\n",
            "\t\t\t\tValid Data\n",
            "----------------------------------------------------------------------\n",
            "        id                                              tweet label\n",
            "0    12476  @USER @USER @USER Trump is declassifying infor...   NOT\n",
            "1    23242  @USER Ha even with them trying to rig the syst...   NOT\n",
            "2    97885  @USER @USER @USER Man you really thought this ...   NOT\n",
            "3    43414  @USER Ms. Clinton - you are a class act. My re...   OFF\n",
            "4    81403  @USER It’s still here at 753. If someone did t...   NOT\n",
            "..     ...                                                ...   ...\n",
            "922  22519            @USER @USER She is as dumb as she looks   OFF\n",
            "923  58715  @USER If you cant give me stitches when I get ...   NOT\n",
            "924  46544  @USER need more ladies to spread out their pus...   OFF\n",
            "925  70368  @USER I cant believe he didnt work in comet pi...   OFF\n",
            "926  87090                                @USER He is in jail   NOT\n",
            "\n",
            "[927 rows x 3 columns]\n",
            "----------------------------------------------------------------------\n",
            "\t\t\t\tTest Data\n",
            "----------------------------------------------------------------------\n",
            "        id                                              tweet label\n",
            "0    15923  #WhoIsQ #WheresTheServer #DumpNike #DECLASFISA...   OFF\n",
            "1    27014  #ConstitutionDay is revered by Conservatives, ...   NOT\n",
            "2    30530  #FOXNews #NRA #MAGA #POTUS #TRUMP #2ndAmendmen...   NOT\n",
            "3    13876  #Watching #Boomer getting the news that she is...   NOT\n",
            "4    60133  #NoPasaran: Unity demo to oppose the far-right...   OFF\n",
            "..     ...                                                ...   ...\n",
            "855  73439  #DespicableDems lie again about rifles. Dem Di...   OFF\n",
            "856  25657  #MeetTheSpeakers 🙌 @USER will present in our e...   NOT\n",
            "857  67018  3 people just unfollowed me for talking about ...   OFF\n",
            "858  50665  #WednesdayWisdom Antifa calls the right fascis...   NOT\n",
            "859  24583      #Kavanaugh typical #liberals , #Democrats URL   NOT\n",
            "\n",
            "[860 rows x 3 columns]\n",
            "----------------------------------------------------------------------\n"
          ]
        }
      ]
    },
    {
      "cell_type": "markdown",
      "source": [
        "## Splitting train data into 25%,50%,75%,100%"
      ],
      "metadata": {
        "id": "SGVmcrMHKG1E"
      }
    },
    {
      "cell_type": "markdown",
      "source": [
        "Firstly, I am splitting train data into four parts as each 25%. Then I am adding splitted data as required 25%, 50%,75% & 100%."
      ],
      "metadata": {
        "id": "AziJr-a44H7T"
      }
    },
    {
      "cell_type": "code",
      "source": [
        "#split the data into four equal parts of 25% each\n",
        "split_1, split_2, split_3, split_4 = np.array_split(train, 4)\n",
        "\n",
        "train_25 = split_1\n",
        "train_50 = pd.concat((train_25, split_2))\n",
        "train_75 = pd.concat((train_50, split_3))\n",
        "train_100 = pd.concat((train_75, split_4)) \n",
        "\n",
        "print(\"Original Train Data Shape:\",train.shape)\n",
        "print(\"-\"*45)\n",
        "print(\"Splitting train data into four equal parts:\")\n",
        "print(\"-\"*45)\n",
        "#print the shapes of the resulting splits\n",
        "print(\"Split_1 Shape:\",split_1.shape)  # should be (3078, 3)\n",
        "print(\"Split_2 Shape:\",split_2.shape)  # should be (3078, 3)\n",
        "print(\"Split_3 Shape:\",split_3.shape)  # should be (3078, 3)\n",
        "print(\"Split_4 Shape:\",split_4.shape)  # should be (3078, 3)\n",
        "print(\"-\"*45)\n",
        "print(\"Adding the splitted data as required:\")\n",
        "print(\"-\"*45)\n",
        "print(\"Train 25% Shape:\",train_25.shape)  # should be (3078, 3)\n",
        "print(\"Train 50% Shape:\",train_50.shape)  # should be (3078, 3)\n",
        "print(\"Train 75% Shape:\",train_75.shape)  # should be (3078, 3)\n",
        "print(\"Train 100% Shape:\",train_100.shape)# should be (3078, 3)\n",
        "\n"
      ],
      "metadata": {
        "id": "lTlPuYmzJXgO",
        "colab": {
          "base_uri": "https://localhost:8080/"
        },
        "outputId": "8d83e079-35cc-45ee-f116-d874b3591cc1"
      },
      "execution_count": 7,
      "outputs": [
        {
          "output_type": "stream",
          "name": "stdout",
          "text": [
            "Original Train Data Shape: (12313, 3)\n",
            "---------------------------------------------\n",
            "Splitting train data into four equal parts:\n",
            "---------------------------------------------\n",
            "Split_1 Shape: (3079, 3)\n",
            "Split_2 Shape: (3078, 3)\n",
            "Split_3 Shape: (3078, 3)\n",
            "Split_4 Shape: (3078, 3)\n",
            "---------------------------------------------\n",
            "Adding the splitted data as required:\n",
            "---------------------------------------------\n",
            "Train 25% Shape: (3079, 3)\n",
            "Train 50% Shape: (6157, 3)\n",
            "Train 75% Shape: (9235, 3)\n",
            "Train 100% Shape: (12313, 3)\n"
          ]
        }
      ]
    },
    {
      "cell_type": "markdown",
      "source": [
        "**Note:** The train data has splitted equally as each 25% and then added the splitted data as required file size."
      ],
      "metadata": {
        "id": "IHLk5yLC5Jqm"
      }
    },
    {
      "cell_type": "markdown",
      "source": [
        "### Saving the Splitted data\n"
      ],
      "metadata": {
        "id": "IVCHzG6DJ_Iu"
      }
    },
    {
      "cell_type": "markdown",
      "source": [
        "Here I am saving the different size of train data in the required directory path."
      ],
      "metadata": {
        "id": "_rdJrdq_7l7j"
      }
    },
    {
      "cell_type": "code",
      "source": [
        "train_25.to_csv('/content/gdrive/MyDrive/CE807/Assignment2/2200940/' + 'train_25.csv', index=False)\n",
        "train_50.to_csv('/content/gdrive/MyDrive/CE807/Assignment2/2200940/' + 'train_50.csv', index=False)\n",
        "train_75.to_csv('/content/gdrive/MyDrive/CE807/Assignment2/2200940/' + 'train_75.csv', index=False)\n",
        "train_100.to_csv('/content/gdrive/MyDrive/CE807/Assignment2/2200940/' + 'train_100.csv', index=False)"
      ],
      "metadata": {
        "id": "q-88_WJUJXjR"
      },
      "execution_count": 8,
      "outputs": []
    },
    {
      "cell_type": "markdown",
      "source": [
        "## Performance Matrics"
      ],
      "metadata": {
        "id": "uRaO5ETYNgh4"
      }
    },
    {
      "cell_type": "markdown",
      "source": [
        "Here I am defining the function to compute the performance matrics of all required data files like Accuracy, Recall (macro), Precision (macro), F1 (macro) and Confusion Matrix for the performance evaluation. "
      ],
      "metadata": {
        "id": "fXnCanQv8PaE"
      }
    },
    {
      "cell_type": "code",
      "source": [
        "def compute_performance(y_true, y_pred, split='test'):\n",
        "    \"\"\"\n",
        "    prints different performance matrics like  Accuracy, Recall (macro), Precision (macro), and F1 (macro).\n",
        "    This also display Confusion Matrix with proper X & Y axis labels.\n",
        "    Also, returns F1 score\n",
        "\n",
        "    Args:\n",
        "        y_true: numpy array or list\n",
        "        y_pred: numpy array or list\n",
        "        split: str\n",
        "        \n",
        "\n",
        "    Returns:\n",
        "        float\n",
        "    \"\"\"\n",
        "\n",
        "    print('Computing different preformance metrics on', split,'set of Dataset')\n",
        "    f1score=f1_score(y_true, y_pred, average='macro')\n",
        "    acc = accuracy_score(y_true, y_pred)\n",
        "    cnf = confusion_matrix(y_true, y_pred)\n",
        "    rec = recall_score(y_true, y_pred, average='macro')\n",
        "    pre = precision_score(y_true, y_pred, average='macro')\n",
        "    cls = classification_report(y_true, y_pred)\n",
        "\n",
        "    print('-'*60)\n",
        "    print('F1 Score(macro): ', f1score)\n",
        "    print('Accuracy: ', acc)\n",
        "    print('Confusion Matrix:')\n",
        "    print(cnf)\n",
        "    print('Precision(macro):', pre)\n",
        "    print('Recall(macro):', rec)\n",
        "    print('_________________________Classification Report__________________________')\n",
        "    print(cls)\n",
        "    print('-'*60)\n",
        "\n",
        "    return f1score\n",
        "\n",
        "\n"
      ],
      "metadata": {
        "id": "PE7ZP06NTgjo"
      },
      "execution_count": 9,
      "outputs": []
    },
    {
      "cell_type": "markdown",
      "source": [
        "## Dataset Statistics"
      ],
      "metadata": {
        "id": "ll6f9TJ-8CRS"
      }
    },
    {
      "cell_type": "markdown",
      "source": [
        "Here, I am printing the quick summary of a data files, which includs its shape, data types, and memory usage by using **.info()**."
      ],
      "metadata": {
        "id": "MpspmHUmCbcG"
      }
    },
    {
      "cell_type": "code",
      "source": [
        "print('-'*40)\n",
        "print(\"\\t\\tTrain Data\")\n",
        "print('-'*40)\n",
        "train.info()\n",
        "print('-'*40)\n",
        "print(\"\\t\\tValid Data\")\n",
        "print('-'*40)\n",
        "valid.info()\n",
        "print('-'*40)\n",
        "print('\\t\\tTest Data')\n",
        "print('-'*40)\n",
        "test.info()\n",
        "print('-'*40)"
      ],
      "metadata": {
        "colab": {
          "base_uri": "https://localhost:8080/"
        },
        "id": "sgXoCoAnBrVh",
        "outputId": "416b45d9-dc44-4569-f525-853a3803ca99"
      },
      "execution_count": 10,
      "outputs": [
        {
          "output_type": "stream",
          "name": "stdout",
          "text": [
            "----------------------------------------\n",
            "\t\tTrain Data\n",
            "----------------------------------------\n",
            "<class 'pandas.core.frame.DataFrame'>\n",
            "RangeIndex: 12313 entries, 0 to 12312\n",
            "Data columns (total 3 columns):\n",
            " #   Column  Non-Null Count  Dtype \n",
            "---  ------  --------------  ----- \n",
            " 0   id      12313 non-null  int64 \n",
            " 1   tweet   12313 non-null  object\n",
            " 2   label   12313 non-null  object\n",
            "dtypes: int64(1), object(2)\n",
            "memory usage: 288.7+ KB\n",
            "----------------------------------------\n",
            "\t\tValid Data\n",
            "----------------------------------------\n",
            "<class 'pandas.core.frame.DataFrame'>\n",
            "RangeIndex: 927 entries, 0 to 926\n",
            "Data columns (total 3 columns):\n",
            " #   Column  Non-Null Count  Dtype \n",
            "---  ------  --------------  ----- \n",
            " 0   id      927 non-null    int64 \n",
            " 1   tweet   927 non-null    object\n",
            " 2   label   927 non-null    object\n",
            "dtypes: int64(1), object(2)\n",
            "memory usage: 21.9+ KB\n",
            "----------------------------------------\n",
            "\t\tTest Data\n",
            "----------------------------------------\n",
            "<class 'pandas.core.frame.DataFrame'>\n",
            "RangeIndex: 860 entries, 0 to 859\n",
            "Data columns (total 3 columns):\n",
            " #   Column  Non-Null Count  Dtype \n",
            "---  ------  --------------  ----- \n",
            " 0   id      860 non-null    int64 \n",
            " 1   tweet   860 non-null    object\n",
            " 2   label   860 non-null    object\n",
            "dtypes: int64(1), object(2)\n",
            "memory usage: 20.3+ KB\n",
            "----------------------------------------\n"
          ]
        }
      ]
    },
    {
      "cell_type": "markdown",
      "source": [
        "Here I am printing the summary statistics such as mean, median, mode, standard deviation, minimum, and maximum values of train,valid & test datas by using **.describe()**."
      ],
      "metadata": {
        "id": "JVr6buoTCyZG"
      }
    },
    {
      "cell_type": "code",
      "source": [
        "print('-'*30)\n",
        "print(\"\\tTrain Data\")\n",
        "print('-'*30)\n",
        "print(train.describe())\n",
        "print('-'*30)\n",
        "print(\"\\tValid Data\")\n",
        "print('-'*30)\n",
        "print(valid.describe())\n",
        "print('-'*30)\n",
        "print('\\tTest Data')\n",
        "print('-'*30)\n",
        "print(test.describe())\n",
        "print('-'*30)"
      ],
      "metadata": {
        "colab": {
          "base_uri": "https://localhost:8080/"
        },
        "id": "e0-bYuSfC97W",
        "outputId": "c28d400c-4dc5-4e2c-ba3a-ccebd3b820e1"
      },
      "execution_count": 11,
      "outputs": [
        {
          "output_type": "stream",
          "name": "stdout",
          "text": [
            "------------------------------\n",
            "\tTrain Data\n",
            "------------------------------\n",
            "                 id\n",
            "count  12313.000000\n",
            "mean   54937.978640\n",
            "std    26079.349786\n",
            "min    10006.000000\n",
            "25%    32275.000000\n",
            "50%    54953.000000\n",
            "75%    77777.000000\n",
            "max    99986.000000\n",
            "------------------------------\n",
            "\tValid Data\n",
            "------------------------------\n",
            "                 id\n",
            "count    927.000000\n",
            "mean   54135.116505\n",
            "std    26271.869731\n",
            "min    10164.000000\n",
            "25%    31895.000000\n",
            "50%    53338.000000\n",
            "75%    77082.500000\n",
            "max    99981.000000\n",
            "------------------------------\n",
            "\tTest Data\n",
            "------------------------------\n",
            "                 id\n",
            "count    860.000000\n",
            "mean   55250.965116\n",
            "std    25908.602213\n",
            "min    10252.000000\n",
            "25%    31537.250000\n",
            "50%    55865.500000\n",
            "75%    78248.000000\n",
            "max    99947.000000\n",
            "------------------------------\n"
          ]
        }
      ]
    },
    {
      "cell_type": "markdown",
      "source": [
        "**Note:** Only id feature is int type."
      ],
      "metadata": {
        "id": "YD7hy4WQDl7N"
      }
    },
    {
      "cell_type": "markdown",
      "source": [
        "Here, I am displaying the frequency of each unique string value in a column of train,valid & test data files by using **.value_counts()**."
      ],
      "metadata": {
        "id": "eQ0nqvH-_HR7"
      }
    },
    {
      "cell_type": "code",
      "source": [
        "print('-'*30)\n",
        "print(\"\\tTrain Data\")\n",
        "print('-'*30)\n",
        "print(train['label'].value_counts())\n",
        "print('-'*30)\n",
        "print(\"\\tValid Data\")\n",
        "print('-'*30)\n",
        "print(valid['label'].value_counts())\n",
        "print('-'*30)\n",
        "print('\\tTest Data')\n",
        "print('-'*30)\n",
        "print(test['label'].value_counts())\n",
        "print('-'*30)"
      ],
      "metadata": {
        "colab": {
          "base_uri": "https://localhost:8080/"
        },
        "id": "OGTYze7T_Rj0",
        "outputId": "4882a9ec-e9af-49a5-af68-30e7040b2070"
      },
      "execution_count": 12,
      "outputs": [
        {
          "output_type": "stream",
          "name": "stdout",
          "text": [
            "------------------------------\n",
            "\tTrain Data\n",
            "------------------------------\n",
            "NOT    8221\n",
            "OFF    4092\n",
            "Name: label, dtype: int64\n",
            "------------------------------\n",
            "\tValid Data\n",
            "------------------------------\n",
            "NOT    619\n",
            "OFF    308\n",
            "Name: label, dtype: int64\n",
            "------------------------------\n",
            "\tTest Data\n",
            "------------------------------\n",
            "NOT    620\n",
            "OFF    240\n",
            "Name: label, dtype: int64\n",
            "------------------------------\n"
          ]
        }
      ]
    },
    {
      "cell_type": "markdown",
      "source": [
        "**Note:** From the above value count of label column, we can see that these data sets are imbalanced. So to balance this ,I am using the resampling method for which I have defined a function in the preprocessing part(given below in Method 1 section)."
      ],
      "metadata": {
        "id": "HuUEFEYTA9RR"
      }
    },
    {
      "cell_type": "markdown",
      "source": [
        "**Data Visualization**"
      ],
      "metadata": {
        "id": "O3XZv0PrNP2r"
      }
    },
    {
      "cell_type": "markdown",
      "source": [
        "Here, visualizing the distribution of label counts of train, valid & test datasets."
      ],
      "metadata": {
        "id": "uFrrx0v_bDp3"
      }
    },
    {
      "cell_type": "code",
      "source": [
        "# Data for the pie charts\n",
        "label_counts1 = train['label'].value_counts()\n",
        "label_counts2 = valid['label'].value_counts()\n",
        "label_counts3 = test['label'].value_counts()\n",
        "\n",
        "# Create a figure with 3 subplots in a single row\n",
        "fig, axs = plt.subplots(1, 3, figsize=(10, 5))\n",
        "clr=['c','m']\n",
        "myexplode = [0.1, 0]\n",
        "\n",
        "# Plot the first pie chart\n",
        "axs[0].pie(label_counts1, labels=label_counts1.index,explode = myexplode, colors= clr, autopct='%.1f%%', startangle=90)\n",
        "axs[0].set_title('Train Data')\n",
        "axs[0].axis('equal')\n",
        "\n",
        "# Plot the second pie chart\n",
        "axs[1].pie(label_counts2, labels=label_counts2.index,explode = myexplode, colors= clr, autopct='%1.1f%%', startangle=90)\n",
        "axs[1].set_title('Valid Data')\n",
        "axs[1].axis('equal')\n",
        "\n",
        "# Plot the third pie chart\n",
        "axs[2].pie(label_counts3, labels=label_counts3.index,explode = myexplode, colors= clr, autopct='%1.1f%%', startangle=90)\n",
        "axs[2].set_title('Test Data')\n",
        "axs[2].axis('equal')\n",
        "\n",
        "# Add an overall title for the figure\n",
        "fig.suptitle('Overall Distribution of Tweet Labels',y=1.05)\n",
        "\n",
        "# Set the layout of the subplots\n",
        "plt.tight_layout()\n",
        "\n",
        "# Display the plot\n",
        "plt.show()\n",
        "\n",
        "\n"
      ],
      "metadata": {
        "colab": {
          "base_uri": "https://localhost:8080/",
          "height": 547
        },
        "id": "rYMYRDepOjjQ",
        "outputId": "b9274fcb-c3a7-41f8-c48f-f40e65deb102"
      },
      "execution_count": 13,
      "outputs": [
        {
          "output_type": "display_data",
          "data": {
            "text/plain": [
              "<Figure size 1000x500 with 3 Axes>"
            ],
            "image/png": "[encoded data removed]"
          },
          "metadata": {}
        }
      ]
    },
    {
      "cell_type": "markdown",
      "source": [
        "Here, visualizing sizes of splitted train data sets"
      ],
      "metadata": {
        "id": "mQwUhUF2aznP"
      }
    },
    {
      "cell_type": "code",
      "source": [
        "\n",
        "# Data for the bar chart\n",
        "sizes = [train_25.shape[0], train_50.shape[0], train_75.shape[0], train_100.shape[0]]\n",
        "labels = ['25%', '50%', '75%', '100%']\n",
        "\n",
        "# Create a horizontal bar chart\n",
        "fig, ax = plt.subplots(figsize=(8, 5))\n",
        "ax.barh(labels, sizes)\n",
        "colors = ['salmon', 'indianred', 'firebrick', 'maroon']\n",
        "\n",
        "#Create a horizontal bar chart\n",
        "plt.barh(labels, sizes, color=colors)\n",
        "\n",
        "# Add a title and labels to the chart\n",
        "ax.set_title('Sizes of splitted train data sets')\n",
        "ax.set_xlabel('Size')\n",
        "ax.set_ylabel('Train Data')\n",
        "\n",
        "# Display the plot\n",
        "plt.show()"
      ],
      "metadata": {
        "colab": {
          "base_uri": "https://localhost:8080/",
          "height": 487
        },
        "id": "zFTXVJj0W9sT",
        "outputId": "2c954cef-ba62-4b95-a328-e2d18809bfa1"
      },
      "execution_count": 14,
      "outputs": [
        {
          "output_type": "display_data",
          "data": {
            "text/plain": [
              "<Figure size 800x500 with 1 Axes>"
            ],
            "image/png": "[encoded data removed]"
          },
          "metadata": {}
        }
      ]
    },
    {
      "cell_type": "markdown",
      "source": [
        "# Method 1"
      ],
      "metadata": {
        "id": "BjGcaIV6QzS_"
      }
    },
    {
      "cell_type": "markdown",
      "source": [
        "\n",
        "Outline of the this section:\n",
        "\n",
        "* Data cleaning\n",
        "* Handling Imbalanced data\n",
        "* Converting data into Vectorization\n",
        "* Model Initialization\n",
        "* Training and validating a model using training and validation dataset\n",
        "* Saving a trained model\n",
        "* Training with different splitted data size\n",
        "* Loading a model and vectorizer from disk\n",
        "* Testing the model on testing set and saving the output of the model\n",
        "* Testing with different splitted data size\n",
        "\n"
      ],
      "metadata": {
        "id": "aBIMeWKZQ2OF"
      }
    },
    {
      "cell_type": "markdown",
      "source": [
        "**Data Cleaning**"
      ],
      "metadata": {
        "id": "44Uujei_RxWB"
      }
    },
    {
      "cell_type": "code",
      "source": [
        "# Creating the function\n",
        "def spacy_tokenizer1(text):\n",
        "     #Creating our token object, which is used to create documents with linguistic annotations.\n",
        "    doc = nlp(text)\n",
        "\n",
        "    # Lemmatizing each token and converting each token into lowercase\n",
        "    mytokens = [word.lemma_.lower().strip() for word in doc]\n",
        "\n",
        "    # Removing stop words and punctuations\n",
        "    mytokens = [word for word in mytokens if word not in stop_words and word not in punctuations]\n",
        "\n",
        "    # Cleaning the text\n",
        "    cleaned_text = re.sub(r\"(@[A-Za-z0-a]+)|([^0-9A-Za-z \\t])|(\\w+:\\/\\/\\s+)|^rt|http.+?\",\"\", ' '.join(mytokens))\n",
        "\n",
        "    # Return preprocessed list of tokens\n",
        "    return cleaned_text"
      ],
      "metadata": {
        "id": "8ZayQIVBRWOb"
      },
      "execution_count": 15,
      "outputs": []
    },
    {
      "cell_type": "markdown",
      "source": [
        "Below, I am showing that how the above defined *spacy_tokenizer1* function works to clean the data. Here, I have shown only train data, similar to this, all other datas will be cleaned, which will process in *train_method1* function in training model. "
      ],
      "metadata": {
        "id": "gOQbMT_8mStk"
      }
    },
    {
      "cell_type": "code",
      "source": [
        "train['tokenized_tweet']=train['tweet'].apply(spacy_tokenizer1)\n",
        "train.head()\n"
      ],
      "metadata": {
        "colab": {
          "base_uri": "https://localhost:8080/",
          "height": 206
        },
        "id": "-Jyh-l_JlhsZ",
        "outputId": "e84788dc-308d-4be9-c85d-802c2ca999e3"
      },
      "execution_count": 16,
      "outputs": [
        {
          "output_type": "execute_result",
          "data": {
            "text/plain": [
              "      id                                              tweet label  \\\n",
              "0  42884  @USER I’m done with you as well. An INTENTIONA...   NOT   \n",
              "1  92152  I now have over 6k followers.  Only 94k to go ...   NOT   \n",
              "2  65475  @USER Tom was bought! He is more interested in...   NOT   \n",
              "3  22144  @USER @USER Even her brother thinks she is a m...   OFF   \n",
              "4  81048  @USER @USER @USER @USER @USER I can understand...   OFF   \n",
              "\n",
              "                                     tokenized_tweet  \n",
              "0   intentional 11th hour attack completely base ...  \n",
              "1           6k follower 94k goal trumptrain maga kag  \n",
              "2                 tom buy interested tom constituent  \n",
              "3                          brother think monster url  \n",
              "4       understand  know debate willing spend tim...  "
            ],
            "text/html": [
              "\n",
              "  <div id=\"df-de5858ed-8d8b-4e11-b8cb-d32ec4c46869\">\n",
              "    <div class=\"colab-df-container\">\n",
              "      <div>\n",
              "<style scoped>\n",
              "    .dataframe tbody tr th:only-of-type {\n",
              "        vertical-align: middle;\n",
              "    }\n",
              "\n",
              "    .dataframe tbody tr th {\n",
              "        vertical-align: top;\n",
              "    }\n",
              "\n",
              "    .dataframe thead th {\n",
              "        text-align: right;\n",
              "    }\n",
              "</style>\n",
              "<table border=\"1\" class=\"dataframe\">\n",
              "  <thead>\n",
              "    <tr style=\"text-align: right;\">\n",
              "      <th></th>\n",
              "      <th>id</th>\n",
              "      <th>tweet</th>\n",
              "      <th>label</th>\n",
              "      <th>tokenized_tweet</th>\n",
              "    </tr>\n",
              "  </thead>\n",
              "  <tbody>\n",
              "    <tr>\n",
              "      <th>0</th>\n",
              "      <td>42884</td>\n",
              "      <td>@USER I’m done with you as well. An INTENTIONA...</td>\n",
              "      <td>NOT</td>\n",
              "      <td>intentional 11th hour attack completely base ...</td>\n",
              "    </tr>\n",
              "    <tr>\n",
              "      <th>1</th>\n",
              "      <td>92152</td>\n",
              "      <td>I now have over 6k followers.  Only 94k to go ...</td>\n",
              "      <td>NOT</td>\n",
              "      <td>6k follower 94k goal trumptrain maga kag</td>\n",
              "    </tr>\n",
              "    <tr>\n",
              "      <th>2</th>\n",
              "      <td>65475</td>\n",
              "      <td>@USER Tom was bought! He is more interested in...</td>\n",
              "      <td>NOT</td>\n",
              "      <td>tom buy interested tom constituent</td>\n",
              "    </tr>\n",
              "    <tr>\n",
              "      <th>3</th>\n",
              "      <td>22144</td>\n",
              "      <td>@USER @USER Even her brother thinks she is a m...</td>\n",
              "      <td>OFF</td>\n",
              "      <td>brother think monster url</td>\n",
              "    </tr>\n",
              "    <tr>\n",
              "      <th>4</th>\n",
              "      <td>81048</td>\n",
              "      <td>@USER @USER @USER @USER @USER I can understand...</td>\n",
              "      <td>OFF</td>\n",
              "      <td>understand  know debate willing spend tim...</td>\n",
              "    </tr>\n",
              "  </tbody>\n",
              "</table>\n",
              "</div>\n",
              "      <button class=\"colab-df-convert\" onclick=\"convertToInteractive('df-de5858ed-8d8b-4e11-b8cb-d32ec4c46869')\"\n",
              "              title=\"Convert this dataframe to an interactive table.\"\n",
              "              style=\"display:none;\">\n",
              "        \n",
              "  <svg xmlns=\"http://www.w3.org/2000/svg\" height=\"24px\"viewBox=\"0 0 24 24\"\n",
              "       width=\"24px\">\n",
              "    <path d=\"M0 0h24v24H0V0z\" fill=\"none\"/>\n",
              "    <path d=\"M18.56 5.44l.94 2.06.94-2.06 2.06-.94-2.06-.94-.94-2.06-.94 2.06-2.06.94zm-11 1L8.5 8.5l.94-2.06 2.06-.94-2.06-.94L8.5 2.5l-.94 2.06-2.06.94zm10 10l.94 2.06.94-2.06 2.06-.94-2.06-.94-.94-2.06-.94 2.06-2.06.94z\"/><path d=\"M17.41 7.96l-1.37-1.37c-.4-.4-.92-.59-1.43-.59-.52 0-1.04.2-1.43.59L10.3 9.45l-7.72 7.72c-.78.78-.78 2.05 0 2.83L4 21.41c.39.39.9.59 1.41.59.51 0 1.02-.2 1.41-.59l7.78-7.78 2.81-2.81c.8-.78.8-2.07 0-2.86zM5.41 20L4 18.59l7.72-7.72 1.47 1.35L5.41 20z\"/>\n",
              "  </svg>\n",
              "      </button>\n",
              "      \n",
              "  <style>\n",
              "    .colab-df-container {\n",
              "      display:flex;\n",
              "      flex-wrap:wrap;\n",
              "      gap: 12px;\n",
              "    }\n",
              "\n",
              "    .colab-df-convert {\n",
              "      background-color: #E8F0FE;\n",
              "      border: none;\n",
              "      border-radius: 50%;\n",
              "      cursor: pointer;\n",
              "      display: none;\n",
              "      fill: #1967D2;\n",
              "      height: 32px;\n",
              "      padding: 0 0 0 0;\n",
              "      width: 32px;\n",
              "    }\n",
              "\n",
              "    .colab-df-convert:hover {\n",
              "      background-color: #E2EBFA;\n",
              "      box-shadow: 0px 1px 2px rgba(60, 64, 67, 0.3), 0px 1px 3px 1px rgba(60, 64, 67, 0.15);\n",
              "      fill: #174EA6;\n",
              "    }\n",
              "\n",
              "    [theme=dark] .colab-df-convert {\n",
              "      background-color: #3B4455;\n",
              "      fill: #D2E3FC;\n",
              "    }\n",
              "\n",
              "    [theme=dark] .colab-df-convert:hover {\n",
              "      background-color: #434B5C;\n",
              "      box-shadow: 0px 1px 3px 1px rgba(0, 0, 0, 0.15);\n",
              "      filter: drop-shadow(0px 1px 2px rgba(0, 0, 0, 0.3));\n",
              "      fill: #FFFFFF;\n",
              "    }\n",
              "  </style>\n",
              "\n",
              "      <script>\n",
              "        const buttonEl =\n",
              "          document.querySelector('#df-de5858ed-8d8b-4e11-b8cb-d32ec4c46869 button.colab-df-convert');\n",
              "        buttonEl.style.display =\n",
              "          google.colab.kernel.accessAllowed ? 'block' : 'none';\n",
              "\n",
              "        async function convertToInteractive(key) {\n",
              "          const element = document.querySelector('#df-de5858ed-8d8b-4e11-b8cb-d32ec4c46869');\n",
              "          const dataTable =\n",
              "            await google.colab.kernel.invokeFunction('convertToInteractive',\n",
              "                                                     [key], {});\n",
              "          if (!dataTable) return;\n",
              "\n",
              "          const docLinkHtml = 'Like what you see? Visit the ' +\n",
              "            '<a target=\"_blank\" href=https://colab.research.google.com/notebooks/data_table.ipynb>data table notebook</a>'\n",
              "            + ' to learn more about interactive tables.';\n",
              "          element.innerHTML = '';\n",
              "          dataTable['output_type'] = 'display_data';\n",
              "          await google.colab.output.renderOutput(dataTable, element);\n",
              "          const docLink = document.createElement('div');\n",
              "          docLink.innerHTML = docLinkHtml;\n",
              "          element.appendChild(docLink);\n",
              "        }\n",
              "      </script>\n",
              "    </div>\n",
              "  </div>\n",
              "  "
            ]
          },
          "metadata": {},
          "execution_count": 16
        }
      ]
    },
    {
      "cell_type": "markdown",
      "source": [
        "**Handling Imbalanced data**"
      ],
      "metadata": {
        "id": "yimLrAW4v814"
      }
    },
    {
      "cell_type": "code",
      "source": [
        "from sklearn.utils import resample\n",
        "import pandas as pd\n",
        "\n",
        "def upsample1(df, label_column):\n",
        "  # convert the string into int\n",
        "  label_int= {\"label\": {\"NOT\":0, \"OFF\":1}}\n",
        "  df_int = df.replace(label_int, inplace=False)\n",
        "   \n",
        "  # Separate the majority and minority classes\n",
        "  majority_class=df_int[df_int[label_column]==0]\n",
        "  minority_class=df_int[df_int[label_column]==1]\n",
        "\n",
        "  # Upsample the minority class to match the number of samples in the majority class\n",
        "  minority_upsampled = resample(minority_class, replace=True, n_samples=len(majority_class), random_state=123)\n",
        "\n",
        "  # Concatenate the upsampled minority class and the majority class\n",
        "  upsampled_df = pd.concat([minority_upsampled, majority_class])\n",
        "\n",
        "  label_str= {\"label\": {0:\"NOT\", 1:\"OFF\"}}\n",
        "  df_str = upsampled_df.replace(label_str, inplace=False)\n",
        "   \n",
        "  return df_str"
      ],
      "metadata": {
        "id": "LpVgPQwNv9CH"
      },
      "execution_count": 17,
      "outputs": []
    },
    {
      "cell_type": "markdown",
      "source": [
        "Below, I have given table of comparing label-counts of train data before & after resampling, to show how the above defined sampling function works."
      ],
      "metadata": {
        "id": "L2paW3BJjNC2"
      }
    },
    {
      "cell_type": "code",
      "source": [
        "train_25_bln=upsample1(train_25,'label')\n",
        "train_50_bln=upsample1(train_50,'label')\n",
        "train_75_bln=upsample1(train_75,'label')\n",
        "train_100_bln=upsample1(train_100,'label') \n",
        "# table\n",
        "from tabulate import tabulate\n",
        "table_data = [['Sizes', 'Before Resampling', 'After Resampling' ],\n",
        "            ['train 25%' , train_25['label'].value_counts(), train_25_bln['label'].value_counts() ],\n",
        "            ['train 50%', train_50['label'].value_counts(),  train_50_bln['label'].value_counts()],\n",
        "            ['train 75%' , train_75['label'].value_counts(), train_75_bln['label'].value_counts() ],\n",
        "            ['train 100%',  train_100['label'].value_counts(),  train_100_bln['label'].value_counts()]]            \n",
        "print(tabulate(table_data, headers= \"firstrow\", tablefmt=\"fancy_grid\"))"
      ],
      "metadata": {
        "colab": {
          "base_uri": "https://localhost:8080/"
        },
        "id": "-IdC69-ogonx",
        "outputId": "9bcdaa1e-ab01-413f-9e7e-3efc85da907f"
      },
      "execution_count": 18,
      "outputs": [
        {
          "output_type": "stream",
          "name": "stdout",
          "text": [
            "╒════════════╤═══════════════════════════╤═══════════════════════════╕\n",
            "│ Sizes      │ Before Resampling         │ After Resampling          │\n",
            "╞════════════╪═══════════════════════════╪═══════════════════════════╡\n",
            "│ train 25%  │ NOT    2035               │ OFF    2035               │\n",
            "│            │ OFF    1044               │ NOT    2035               │\n",
            "│            │ Name: label, dtype: int64 │ Name: label, dtype: int64 │\n",
            "├────────────┼───────────────────────────┼───────────────────────────┤\n",
            "│ train 50%  │ NOT    4142               │ OFF    4142               │\n",
            "│            │ OFF    2015               │ NOT    4142               │\n",
            "│            │ Name: label, dtype: int64 │ Name: label, dtype: int64 │\n",
            "├────────────┼───────────────────────────┼───────────────────────────┤\n",
            "│ train 75%  │ NOT    6177               │ OFF    6177               │\n",
            "│            │ OFF    3058               │ NOT    6177               │\n",
            "│            │ Name: label, dtype: int64 │ Name: label, dtype: int64 │\n",
            "├────────────┼───────────────────────────┼───────────────────────────┤\n",
            "│ train 100% │ NOT    8221               │ OFF    8221               │\n",
            "│            │ OFF    4092               │ NOT    8221               │\n",
            "│            │ Name: label, dtype: int64 │ Name: label, dtype: int64 │\n",
            "╘════════════╧═══════════════════════════╧═══════════════════════════╛\n"
          ]
        }
      ]
    },
    {
      "cell_type": "markdown",
      "source": [
        "**Converting data into Vectorization**"
      ],
      "metadata": {
        "id": "emT0LisOR2ze"
      }
    },
    {
      "cell_type": "code",
      "source": [
        "def prepare_dataset1(data, vectorizer=None, split='test'):\n",
        "  if split == 'train':\n",
        "    vectorizer = TfidfVectorizer() \n",
        "    values = vectorizer.fit_transform(data['tweet'].values) #TODO: This is the best way to do this, because you need to use same vectorization method\n",
        "  else:\n",
        "    values = vectorizer.transform(data['tweet'].values)\n",
        "\n",
        "  if split == 'train':\n",
        "    return values, vectorizer\n",
        "  else:\n",
        "    return values"
      ],
      "metadata": {
        "id": "d6fTMpd-TDxA"
      },
      "execution_count": 19,
      "outputs": []
    },
    {
      "cell_type": "markdown",
      "source": [
        "Below, I have shown that how the above defined *prepare_dataset1* function works"
      ],
      "metadata": {
        "id": "RqFnSch6qptF"
      }
    },
    {
      "cell_type": "code",
      "source": [
        "train_values, vectorizer = prepare_dataset1(train, split='train')\n",
        "train_values, vectorizer"
      ],
      "metadata": {
        "colab": {
          "base_uri": "https://localhost:8080/"
        },
        "id": "LKweR8l5qAd4",
        "outputId": "f0288037-721b-4f3e-a17c-31b262a25821"
      },
      "execution_count": 20,
      "outputs": [
        {
          "output_type": "execute_result",
          "data": {
            "text/plain": [
              "(<12313x18367 sparse matrix of type '<class 'numpy.float64'>'\n",
              " \twith 221939 stored elements in Compressed Sparse Row format>,\n",
              " TfidfVectorizer())"
            ]
          },
          "metadata": {},
          "execution_count": 20
        }
      ]
    },
    {
      "cell_type": "markdown",
      "source": [
        "**Model Initialization**"
      ],
      "metadata": {
        "id": "AY6PD6bqW1Oy"
      }
    },
    {
      "cell_type": "markdown",
      "source": [
        "RBF SVM (Radial Basis Function Support Vector Machine)"
      ],
      "metadata": {
        "id": "84RXdXfnZcWg"
      }
    },
    {
      "cell_type": "code",
      "source": [
        "def train_model1(text_vector,label):\n",
        "  print('Let\\'s start training Radial Basis Function Support Vector Machine')\n",
        "  classifier = svm.SVC(kernel='rbf')\n",
        "  classifier.fit(text_vector, label)\n",
        "  #kernel = RBF(length_scale=1.0)\n",
        "  #classifier = GaussianProcessRegressor()\n",
        "  #classifier.fit(text_vector, label)\n",
        "\n",
        "  return classifier"
      ],
      "metadata": {
        "id": "TDfTCKbrTgyy"
      },
      "execution_count": 21,
      "outputs": []
    },
    {
      "cell_type": "markdown",
      "source": [
        "**Training and validating a model using training and validation dataset**"
      ],
      "metadata": {
        "id": "nnqDmFvtSawV"
      }
    },
    {
      "cell_type": "markdown",
      "source": [
        "Here, the train_method1 function followed a standard ML pipeline:\n",
        "* Data reading\n",
        "* Data clearning\n",
        "* Convert data to vector/tokenization/vectorization\n",
        "* Model Declaration/Initialization/building\n",
        "* Training and validation of the model using training and validation dataset\n",
        "* Save the trained model\n",
        "* Load and Test the model on testing set\n",
        "* Save the output of the model"
      ],
      "metadata": {
        "id": "MNtZ_rLqLka1"
      }
    },
    {
      "cell_type": "code",
      "source": [
        "def train_method1(train_file, val_file, model_dir):\n",
        "    \"\"\"\n",
        "     Takes train_file, val_file and model_dir as input.\n",
        "     It trained on the train_file datapoints, and validate on the val_file datapoints.\n",
        "     While training and validating, it print different evaluataion metrics and losses, wheverever necessary.\n",
        "     After finishing the training, it saved the best model in the model_dir.\n",
        "\n",
        "     ADD Other arguments, if needed.\n",
        "\n",
        "    Args:\n",
        "        train_file: Train file name\n",
        "        val_file: Validation file name\n",
        "        model_dir: Model output Directory\n",
        "    \n",
        "    \"\"\"\n",
        "    train_df = pd.read_csv(train_file)\n",
        "    val_df = pd.read_csv(val_file)\n",
        "    print(\"-----------------Data Shape before sampling-----------------\")\n",
        "    print(\"Train Data Shape:\", train_df.shape)\n",
        "    print(\"Valid Data Shape:\", val_df.shape)\n",
        "\n",
        "    train_df['tweet']=train_df['tweet'].apply(spacy_tokenizer1)\n",
        "    val_df['tweet']=val_df['tweet'].apply(spacy_tokenizer1)\n",
        "    \n",
        "    train_df = upsample1(train_df, 'label')\n",
        "    val_df = upsample1(val_df, 'label')\n",
        "    print(\"-----------------Data Shape after sampling------------------\")\n",
        "\n",
        "    print(\"Train Data Shape:\", train_df.shape)\n",
        "    print(\"Valid Data Shape:\", val_df.shape)\n",
        "    print(\"-\"*60)\n",
        "\n",
        "    train_label = train_df['label']\n",
        "    val_label = val_df['label']\n",
        "    \n",
        "    train_values, vectorizer = prepare_dataset1(train_df, split='train') \n",
        "    val_values= prepare_dataset1(val_df,vectorizer)\n",
        "\n",
        "    model = train_model1(train_values,train_label)\n",
        "\n",
        "    model_file, vectorizer_file = save_model1(model, vectorizer, model_dir)\n",
        "\n",
        "    train_pred_label = model.predict(train_values)\n",
        "    val_pred_label = model.predict(val_values)\n",
        "\n",
        "    # print('Train Split')\n",
        "    train_f1_score = compute_performance(train_label, train_pred_label, split='train')\n",
        "\n",
        "    # print('Validation Split')\n",
        "    val_f1_score = compute_performance(val_label, val_pred_label, split='valid')\n",
        "\n",
        "\n",
        "    return model_file, vectorizer_file"
      ],
      "metadata": {
        "id": "hJL-AhC4WF3y"
      },
      "execution_count": 22,
      "outputs": []
    },
    {
      "cell_type": "markdown",
      "source": [
        "**Saving a trained model**"
      ],
      "metadata": {
        "id": "iJ2tHjvdTRT2"
      }
    },
    {
      "cell_type": "code",
      "source": [
        "def save_model1(model, vectorizer, model_dir):\n",
        "    # save the model to disk\n",
        "    model_file = os.path.join(model_dir, 'model.sav')\n",
        "    pickle.dump(model, open(model_file, 'wb'))\n",
        "\n",
        "    print('Saved model to ', model_file)\n",
        "\n",
        "    vectorizer_file = os.path.join(model_dir, 'vectorizer.sav') \n",
        "    pickle.dump(vectorizer, open(vectorizer_file, 'wb'))\n",
        "\n",
        "    print('Saved Vectorizer to ', vectorizer_file)\n",
        "    print('-'*60)\n",
        "\n",
        "    return model_file, vectorizer_file "
      ],
      "metadata": {
        "id": "sxkd5lstTQaA"
      },
      "execution_count": 23,
      "outputs": []
    },
    {
      "cell_type": "markdown",
      "source": [
        "### **Training with different splitted data size**"
      ],
      "metadata": {
        "id": "uI0KXNo9WZea"
      }
    },
    {
      "cell_type": "code",
      "source": [
        "print('Train using of 25% of data')\n",
        "model_25_file, vectorizer_25_file = train_method1(train_25_file, val_file, MODEL_1_25_DIRECTORY)"
      ],
      "metadata": {
        "colab": {
          "base_uri": "https://localhost:8080/"
        },
        "id": "kLdgsCy5Jyle",
        "outputId": "8bb9d870-1af7-4806-9c74-0db5cd6e7b73"
      },
      "execution_count": 24,
      "outputs": [
        {
          "output_type": "stream",
          "name": "stdout",
          "text": [
            "Train using of 25% of data\n",
            "-----------------Data Shape before sampling-----------------\n",
            "Train Data Shape: (3079, 3)\n",
            "Valid Data Shape: (927, 3)\n",
            "-----------------Data Shape after sampling------------------\n",
            "Train Data Shape: (4070, 3)\n",
            "Valid Data Shape: (1238, 3)\n",
            "------------------------------------------------------------\n",
            "Let's start training Radial Basis Function Support Vector Machine\n",
            "Saved model to  gdrive/MyDrive/./CE807/Assignment2/2200940/models/1/25/model.sav\n",
            "Saved Vectorizer to  gdrive/MyDrive/./CE807/Assignment2/2200940/models/1/25/vectorizer.sav\n",
            "------------------------------------------------------------\n",
            "Computing different preformance metrics on train set of Dataset\n",
            "------------------------------------------------------------\n",
            "F1 Score(macro):  0.9950859761002162\n",
            "Accuracy:  0.995085995085995\n",
            "Confusion Matrix:\n",
            "[[2029    6]\n",
            " [  14 2021]]\n",
            "Precision(macro): 0.995093646443594\n",
            "Recall(macro): 0.9950859950859952\n",
            "_________________________Classification Report__________________________\n",
            "              precision    recall  f1-score   support\n",
            "\n",
            "         NOT       0.99      1.00      1.00      2035\n",
            "         OFF       1.00      0.99      1.00      2035\n",
            "\n",
            "    accuracy                           1.00      4070\n",
            "   macro avg       1.00      1.00      1.00      4070\n",
            "weighted avg       1.00      1.00      1.00      4070\n",
            "\n",
            "------------------------------------------------------------\n",
            "Computing different preformance metrics on valid set of Dataset\n",
            "------------------------------------------------------------\n",
            "F1 Score(macro):  0.5833285099030383\n",
            "Accuracy:  0.6195476575121163\n",
            "Confusion Matrix:\n",
            "[[566  53]\n",
            " [418 201]]\n",
            "Precision(macro): 0.6832709173548428\n",
            "Recall(macro): 0.6195476575121163\n",
            "_________________________Classification Report__________________________\n",
            "              precision    recall  f1-score   support\n",
            "\n",
            "         NOT       0.58      0.91      0.71       619\n",
            "         OFF       0.79      0.32      0.46       619\n",
            "\n",
            "    accuracy                           0.62      1238\n",
            "   macro avg       0.68      0.62      0.58      1238\n",
            "weighted avg       0.68      0.62      0.58      1238\n",
            "\n",
            "------------------------------------------------------------\n"
          ]
        }
      ]
    },
    {
      "cell_type": "code",
      "source": [
        "print('Train using of 50% of data')\n",
        "model_50_file, vectorizer_50_file = train_method1(train_50_file, val_file, MODEL_1_50_DIRECTORY)"
      ],
      "metadata": {
        "id": "82QfpA0iCuWc",
        "colab": {
          "base_uri": "https://localhost:8080/"
        },
        "outputId": "9d5a76a7-2e64-4127-8c48-6e5c21f83aad"
      },
      "execution_count": 25,
      "outputs": [
        {
          "output_type": "stream",
          "name": "stdout",
          "text": [
            "Train using of 50% of data\n",
            "-----------------Data Shape before sampling-----------------\n",
            "Train Data Shape: (6157, 3)\n",
            "Valid Data Shape: (927, 3)\n",
            "-----------------Data Shape after sampling------------------\n",
            "Train Data Shape: (8284, 3)\n",
            "Valid Data Shape: (1238, 3)\n",
            "------------------------------------------------------------\n",
            "Let's start training Radial Basis Function Support Vector Machine\n",
            "Saved model to  gdrive/MyDrive/./CE807/Assignment2/2200940/models/1/50/model.sav\n",
            "Saved Vectorizer to  gdrive/MyDrive/./CE807/Assignment2/2200940/models/1/50/vectorizer.sav\n",
            "------------------------------------------------------------\n",
            "Computing different preformance metrics on train set of Dataset\n",
            "------------------------------------------------------------\n",
            "F1 Score(macro):  0.9914292161398525\n",
            "Accuracy:  0.9914292612264607\n",
            "Confusion Matrix:\n",
            "[[4116   26]\n",
            " [  45 4097]]\n",
            "Precision(macro): 0.9914396020984853\n",
            "Recall(macro): 0.9914292612264606\n",
            "_________________________Classification Report__________________________\n",
            "              precision    recall  f1-score   support\n",
            "\n",
            "         NOT       0.99      0.99      0.99      4142\n",
            "         OFF       0.99      0.99      0.99      4142\n",
            "\n",
            "    accuracy                           0.99      8284\n",
            "   macro avg       0.99      0.99      0.99      8284\n",
            "weighted avg       0.99      0.99      0.99      8284\n",
            "\n",
            "------------------------------------------------------------\n",
            "Computing different preformance metrics on valid set of Dataset\n",
            "------------------------------------------------------------\n",
            "F1 Score(macro):  0.6342841217863862\n",
            "Accuracy:  0.6575121163166397\n",
            "Confusion Matrix:\n",
            "[[563  56]\n",
            " [368 251]]\n",
            "Precision(macro): 0.7111578387569668\n",
            "Recall(macro): 0.6575121163166397\n",
            "_________________________Classification Report__________________________\n",
            "              precision    recall  f1-score   support\n",
            "\n",
            "         NOT       0.60      0.91      0.73       619\n",
            "         OFF       0.82      0.41      0.54       619\n",
            "\n",
            "    accuracy                           0.66      1238\n",
            "   macro avg       0.71      0.66      0.63      1238\n",
            "weighted avg       0.71      0.66      0.63      1238\n",
            "\n",
            "------------------------------------------------------------\n"
          ]
        }
      ]
    },
    {
      "cell_type": "code",
      "source": [
        "print('Train using of 75% of data')\n",
        "model_75_file, vectorizer_75_file = train_method1(train_75_file, val_file, MODEL_1_75_DIRECTORY)"
      ],
      "metadata": {
        "id": "Jhs3zpRBDozr",
        "colab": {
          "base_uri": "https://localhost:8080/"
        },
        "outputId": "db91fd46-85f9-45fb-a618-b55abe13a34a"
      },
      "execution_count": 26,
      "outputs": [
        {
          "output_type": "stream",
          "name": "stdout",
          "text": [
            "Train using of 75% of data\n",
            "-----------------Data Shape before sampling-----------------\n",
            "Train Data Shape: (9235, 3)\n",
            "Valid Data Shape: (927, 3)\n",
            "-----------------Data Shape after sampling------------------\n",
            "Train Data Shape: (12354, 3)\n",
            "Valid Data Shape: (1238, 3)\n",
            "------------------------------------------------------------\n",
            "Let's start training Radial Basis Function Support Vector Machine\n",
            "Saved model to  gdrive/MyDrive/./CE807/Assignment2/2200940/models/1/75/model.sav\n",
            "Saved Vectorizer to  gdrive/MyDrive/./CE807/Assignment2/2200940/models/1/75/vectorizer.sav\n",
            "------------------------------------------------------------\n",
            "Computing different preformance metrics on train set of Dataset\n",
            "------------------------------------------------------------\n",
            "F1 Score(macro):  0.9892340867447524\n",
            "Accuracy:  0.9892342561113809\n",
            "Confusion Matrix:\n",
            "[[6135   42]\n",
            " [  91 6086]]\n",
            "Precision(macro): 0.9892650440878351\n",
            "Recall(macro): 0.9892342561113809\n",
            "_________________________Classification Report__________________________\n",
            "              precision    recall  f1-score   support\n",
            "\n",
            "         NOT       0.99      0.99      0.99      6177\n",
            "         OFF       0.99      0.99      0.99      6177\n",
            "\n",
            "    accuracy                           0.99     12354\n",
            "   macro avg       0.99      0.99      0.99     12354\n",
            "weighted avg       0.99      0.99      0.99     12354\n",
            "\n",
            "------------------------------------------------------------\n",
            "Computing different preformance metrics on valid set of Dataset\n",
            "------------------------------------------------------------\n",
            "F1 Score(macro):  0.652845939043102\n",
            "Accuracy:  0.6712439418416801\n",
            "Confusion Matrix:\n",
            "[[558  61]\n",
            " [346 273]]\n",
            "Precision(macro): 0.7173109533146097\n",
            "Recall(macro): 0.6712439418416801\n",
            "_________________________Classification Report__________________________\n",
            "              precision    recall  f1-score   support\n",
            "\n",
            "         NOT       0.62      0.90      0.73       619\n",
            "         OFF       0.82      0.44      0.57       619\n",
            "\n",
            "    accuracy                           0.67      1238\n",
            "   macro avg       0.72      0.67      0.65      1238\n",
            "weighted avg       0.72      0.67      0.65      1238\n",
            "\n",
            "------------------------------------------------------------\n"
          ]
        }
      ]
    },
    {
      "cell_type": "code",
      "source": [
        "print('Train using of 100% of data')\n",
        "model_100_file, vectorizer_100_file = train_method1(train_100_file, val_file, MODEL_1_100_DIRECTORY)"
      ],
      "metadata": {
        "id": "ZHM5c-EDEGZ1",
        "colab": {
          "base_uri": "https://localhost:8080/"
        },
        "outputId": "57f2aa13-d1e5-4e3a-a196-689308629081"
      },
      "execution_count": 27,
      "outputs": [
        {
          "output_type": "stream",
          "name": "stdout",
          "text": [
            "Train using of 100% of data\n",
            "-----------------Data Shape before sampling-----------------\n",
            "Train Data Shape: (12313, 3)\n",
            "Valid Data Shape: (927, 3)\n",
            "-----------------Data Shape after sampling------------------\n",
            "Train Data Shape: (16442, 3)\n",
            "Valid Data Shape: (1238, 3)\n",
            "------------------------------------------------------------\n",
            "Let's start training Radial Basis Function Support Vector Machine\n",
            "Saved model to  gdrive/MyDrive/./CE807/Assignment2/2200940/models/1/100/model.sav\n",
            "Saved Vectorizer to  gdrive/MyDrive/./CE807/Assignment2/2200940/models/1/100/vectorizer.sav\n",
            "------------------------------------------------------------\n",
            "Computing different preformance metrics on train set of Dataset\n",
            "------------------------------------------------------------\n",
            "F1 Score(macro):  0.9856463822854733\n",
            "Accuracy:  0.9856465150225033\n",
            "Confusion Matrix:\n",
            "[[8128   93]\n",
            " [ 143 8078]]\n",
            "Precision(macro): 0.9856644800155709\n",
            "Recall(macro): 0.9856465150225033\n",
            "_________________________Classification Report__________________________\n",
            "              precision    recall  f1-score   support\n",
            "\n",
            "         NOT       0.98      0.99      0.99      8221\n",
            "         OFF       0.99      0.98      0.99      8221\n",
            "\n",
            "    accuracy                           0.99     16442\n",
            "   macro avg       0.99      0.99      0.99     16442\n",
            "weighted avg       0.99      0.99      0.99     16442\n",
            "\n",
            "------------------------------------------------------------\n",
            "Computing different preformance metrics on valid set of Dataset\n",
            "------------------------------------------------------------\n",
            "F1 Score(macro):  0.659089855688879\n",
            "Accuracy:  0.6736672051696284\n",
            "Confusion Matrix:\n",
            "[[545  74]\n",
            " [330 289]]\n",
            "Precision(macro): 0.7095001967729241\n",
            "Recall(macro): 0.6736672051696284\n",
            "_________________________Classification Report__________________________\n",
            "              precision    recall  f1-score   support\n",
            "\n",
            "         NOT       0.62      0.88      0.73       619\n",
            "         OFF       0.80      0.47      0.59       619\n",
            "\n",
            "    accuracy                           0.67      1238\n",
            "   macro avg       0.71      0.67      0.66      1238\n",
            "weighted avg       0.71      0.67      0.66      1238\n",
            "\n",
            "------------------------------------------------------------\n"
          ]
        }
      ]
    },
    {
      "cell_type": "markdown",
      "source": [
        "**Loading a model and vectorizer from disk**"
      ],
      "metadata": {
        "id": "FvQwWhjWT3TF"
      }
    },
    {
      "cell_type": "code",
      "source": [
        "def load_model1(model_file, vectorizer_file):\n",
        "    # load model and vectorizer from disk\n",
        "\n",
        "    model = pickle.load(open(model_file, 'rb'))\n",
        "\n",
        "    print('Loaded model from ', model_file)\n",
        "\n",
        "    vectorizer = pickle.load(open(vectorizer_file, 'rb'))\n",
        "\n",
        "    print('Loaded Vectorizer from ', vectorizer_file)\n",
        "    print('-'*60)\n",
        "\n",
        "\n",
        "    return model, vectorizer"
      ],
      "metadata": {
        "id": "yWXZrzXFTyUx"
      },
      "execution_count": 28,
      "outputs": []
    },
    {
      "cell_type": "markdown",
      "source": [
        "**Testing the model on testing set and saving the output of the model**\n",
        "\n"
      ],
      "metadata": {
        "id": "I3qNZN8nUEE0"
      }
    },
    {
      "cell_type": "code",
      "source": [
        "def test_method1(test_file, model_file, vectorizer_file, output_dir):\n",
        "    \"\"\"\n",
        "     take test_file, model_file and output_dir as input.\n",
        "     It loads model and test of the examples in the test_file.\n",
        "     It prints different evaluation metrics, and saves the output in output directory\n",
        "\n",
        "     ADD Other arguments, if needed\n",
        "\n",
        "    Args:\n",
        "        test_file: Test file name\n",
        "        model_file: Model file name\n",
        "        vectorizer_file: Vectorizer file name\n",
        "        output_dir: Output Directory\n",
        "    \n",
        "    \"\"\"\n",
        "\n",
        "    test_df = pd.read_csv(test_file)\n",
        "\n",
        "    test_df['tweet']=test_df['tweet'].apply(spacy_tokenizer1)\n",
        "    \n",
        "    test_df = upsample1(test_df, 'label')\n",
        "    \n",
        "    test_label = test_df['label']\n",
        "\n",
        "    model, vectorizer = load_model1(model_file, vectorizer_file) \n",
        "\n",
        "    test_values= prepare_dataset1(test_df,vectorizer)\n",
        "\n",
        "    test_pred_label = model.predict(test_values)\n",
        "\n",
        "    test_df['out_label']  = test_pred_label # Note how this is saved \n",
        "\n",
        "    test_f1_score = compute_performance(test_label, test_pred_label, split='test')\n",
        "\n",
        "    out_file = os.path.join(output_dir, 'output_test.csv')\n",
        "\n",
        "    print('Saving model output to', out_file)\n",
        "    test_df.to_csv(out_file)\n",
        "\n",
        "    \n",
        "    # return "
      ],
      "metadata": {
        "id": "B_h1Y2J-W90y"
      },
      "execution_count": 29,
      "outputs": []
    },
    {
      "cell_type": "markdown",
      "source": [
        "### **Testing with different splitted data size**"
      ],
      "metadata": {
        "id": "ptT1BjWFXJrS"
      }
    },
    {
      "cell_type": "code",
      "source": [
        "print('Testing using model trained on 25% data')\n",
        "test_method1(test_file, model_25_file, vectorizer_25_file, MODEL_1_25_DIRECTORY)"
      ],
      "metadata": {
        "id": "epCJkhajXYyl",
        "colab": {
          "base_uri": "https://localhost:8080/"
        },
        "outputId": "55f930f1-bda1-4a30-c98b-9f684cd0b7f5"
      },
      "execution_count": 30,
      "outputs": [
        {
          "output_type": "stream",
          "name": "stdout",
          "text": [
            "Testing using model trained on 25% data\n",
            "Loaded model from  gdrive/MyDrive/./CE807/Assignment2/2200940/models/1/25/model.sav\n",
            "Loaded Vectorizer from  gdrive/MyDrive/./CE807/Assignment2/2200940/models/1/25/vectorizer.sav\n",
            "------------------------------------------------------------\n",
            "Computing different preformance metrics on test set of Dataset\n",
            "------------------------------------------------------------\n",
            "F1 Score(macro):  0.6014143362262938\n",
            "Accuracy:  0.6443548387096775\n",
            "Confusion Matrix:\n",
            "[[603  17]\n",
            " [424 196]]\n",
            "Precision(macro): 0.7536674118061175\n",
            "Recall(macro): 0.6443548387096774\n",
            "_________________________Classification Report__________________________\n",
            "              precision    recall  f1-score   support\n",
            "\n",
            "         NOT       0.59      0.97      0.73       620\n",
            "         OFF       0.92      0.32      0.47       620\n",
            "\n",
            "    accuracy                           0.64      1240\n",
            "   macro avg       0.75      0.64      0.60      1240\n",
            "weighted avg       0.75      0.64      0.60      1240\n",
            "\n",
            "------------------------------------------------------------\n",
            "Saving model output to gdrive/MyDrive/./CE807/Assignment2/2200940/models/1/25/output_test.csv\n"
          ]
        }
      ]
    },
    {
      "cell_type": "code",
      "source": [
        "print('Testing using model trained on 50% data')\n",
        "test_method1(test_file, model_50_file, vectorizer_50_file, MODEL_1_50_DIRECTORY)"
      ],
      "metadata": {
        "id": "Vn4IBLYvE8Br",
        "colab": {
          "base_uri": "https://localhost:8080/"
        },
        "outputId": "8a000b4a-73d8-42f3-ce82-9c680dab5951"
      },
      "execution_count": 31,
      "outputs": [
        {
          "output_type": "stream",
          "name": "stdout",
          "text": [
            "Testing using model trained on 50% data\n",
            "Loaded model from  gdrive/MyDrive/./CE807/Assignment2/2200940/models/1/50/model.sav\n",
            "Loaded Vectorizer from  gdrive/MyDrive/./CE807/Assignment2/2200940/models/1/50/vectorizer.sav\n",
            "------------------------------------------------------------\n",
            "Computing different preformance metrics on test set of Dataset\n",
            "------------------------------------------------------------\n",
            "F1 Score(macro):  0.6301469259691579\n",
            "Accuracy:  0.6645161290322581\n",
            "Confusion Matrix:\n",
            "[[601  19]\n",
            " [397 223]]\n",
            "Precision(macro): 0.7618460060617103\n",
            "Recall(macro): 0.6645161290322581\n",
            "_________________________Classification Report__________________________\n",
            "              precision    recall  f1-score   support\n",
            "\n",
            "         NOT       0.60      0.97      0.74       620\n",
            "         OFF       0.92      0.36      0.52       620\n",
            "\n",
            "    accuracy                           0.66      1240\n",
            "   macro avg       0.76      0.66      0.63      1240\n",
            "weighted avg       0.76      0.66      0.63      1240\n",
            "\n",
            "------------------------------------------------------------\n",
            "Saving model output to gdrive/MyDrive/./CE807/Assignment2/2200940/models/1/50/output_test.csv\n"
          ]
        }
      ]
    },
    {
      "cell_type": "code",
      "source": [
        "print('Testing using model trained on 75% data')\n",
        "test_method1(test_file, model_75_file, vectorizer_75_file, MODEL_1_75_DIRECTORY)"
      ],
      "metadata": {
        "id": "7ZPFPEAZE8JZ",
        "colab": {
          "base_uri": "https://localhost:8080/"
        },
        "outputId": "4af1bcce-78d9-4147-89b7-72c39e312723"
      },
      "execution_count": 32,
      "outputs": [
        {
          "output_type": "stream",
          "name": "stdout",
          "text": [
            "Testing using model trained on 75% data\n",
            "Loaded model from  gdrive/MyDrive/./CE807/Assignment2/2200940/models/1/75/model.sav\n",
            "Loaded Vectorizer from  gdrive/MyDrive/./CE807/Assignment2/2200940/models/1/75/vectorizer.sav\n",
            "------------------------------------------------------------\n",
            "Computing different preformance metrics on test set of Dataset\n",
            "------------------------------------------------------------\n",
            "F1 Score(macro):  0.6261202599452138\n",
            "Accuracy:  0.6588709677419354\n",
            "Confusion Matrix:\n",
            "[[592  28]\n",
            " [395 225]]\n",
            "Precision(macro): 0.7445627144979596\n",
            "Recall(macro): 0.6588709677419355\n",
            "_________________________Classification Report__________________________\n",
            "              precision    recall  f1-score   support\n",
            "\n",
            "         NOT       0.60      0.95      0.74       620\n",
            "         OFF       0.89      0.36      0.52       620\n",
            "\n",
            "    accuracy                           0.66      1240\n",
            "   macro avg       0.74      0.66      0.63      1240\n",
            "weighted avg       0.74      0.66      0.63      1240\n",
            "\n",
            "------------------------------------------------------------\n",
            "Saving model output to gdrive/MyDrive/./CE807/Assignment2/2200940/models/1/75/output_test.csv\n"
          ]
        }
      ]
    },
    {
      "cell_type": "code",
      "source": [
        "print('Testing using model trained on 100% data')\n",
        "test_method1(test_file, model_100_file, vectorizer_100_file, MODEL_1_100_DIRECTORY)"
      ],
      "metadata": {
        "id": "GYMPah1jE8QU",
        "colab": {
          "base_uri": "https://localhost:8080/"
        },
        "outputId": "54a8333f-cc8b-4479-85a6-8b076783adeb"
      },
      "execution_count": 33,
      "outputs": [
        {
          "output_type": "stream",
          "name": "stdout",
          "text": [
            "Testing using model trained on 100% data\n",
            "Loaded model from  gdrive/MyDrive/./CE807/Assignment2/2200940/models/1/100/model.sav\n",
            "Loaded Vectorizer from  gdrive/MyDrive/./CE807/Assignment2/2200940/models/1/100/vectorizer.sav\n",
            "------------------------------------------------------------\n",
            "Computing different preformance metrics on test set of Dataset\n",
            "------------------------------------------------------------\n",
            "F1 Score(macro):  0.6445837234632068\n",
            "Accuracy:  0.6733870967741935\n",
            "Confusion Matrix:\n",
            "[[594  26]\n",
            " [379 241]]\n",
            "Precision(macro): 0.7565523824920801\n",
            "Recall(macro): 0.6733870967741935\n",
            "_________________________Classification Report__________________________\n",
            "              precision    recall  f1-score   support\n",
            "\n",
            "         NOT       0.61      0.96      0.75       620\n",
            "         OFF       0.90      0.39      0.54       620\n",
            "\n",
            "    accuracy                           0.67      1240\n",
            "   macro avg       0.76      0.67      0.64      1240\n",
            "weighted avg       0.76      0.67      0.64      1240\n",
            "\n",
            "------------------------------------------------------------\n",
            "Saving model output to gdrive/MyDrive/./CE807/Assignment2/2200940/models/1/100/output_test.csv\n"
          ]
        }
      ]
    },
    {
      "cell_type": "markdown",
      "source": [
        "# **Method 2**"
      ],
      "metadata": {
        "id": "bYY1ii7fbu8Q"
      }
    },
    {
      "cell_type": "markdown",
      "source": [
        "Outline of this section:\n",
        "\n",
        "* Data cleaning\n",
        "* Handling Imbalanced data\n",
        "* Converting data into Vectorization\n",
        "* Model Initialization\n",
        "* Training and validating a model using training and validation dataset\n",
        "* Saving a trained model\n",
        "* Training with different splitted data size\n",
        "* Loading a model and vectorizer from disk\n",
        "* Testing the model on testing set and saving the output of the model\n",
        "* Testing with different splitted data size"
      ],
      "metadata": {
        "id": "7ua51XUjb7_p"
      }
    },
    {
      "cell_type": "markdown",
      "source": [
        "**Note:** In this section, pre-processing will be done similar to Method 1 section, i.e., Data cleaning, Handling Imbalanced data, converting data into vectorization,etc.."
      ],
      "metadata": {
        "id": "ycC5zJFasY2w"
      }
    },
    {
      "cell_type": "markdown",
      "source": [
        "**Data Cleaning**"
      ],
      "metadata": {
        "id": "KvGy_7xH2gsJ"
      }
    },
    {
      "cell_type": "code",
      "source": [
        "# Creating the function\n",
        "def spacy_tokenizer2(text):\n",
        "    # Creating our token object, which is used to create documents with linguistic annotations.\n",
        "    doc = nlp(text)\n",
        "\n",
        "    # Lemmatizing each token and converting each token into lowercase\n",
        "    mytokens = [word.lemma_.lower().strip() for word in doc]\n",
        "\n",
        "    # Removing stop words and punctuations\n",
        "    mytokens = [word for word in mytokens if word not in stop_words and word not in punctuations]\n",
        "\n",
        "    # Cleaning the text\n",
        "    cleaned_text = re.sub(r\"(@[A-Za-z0-a]+)|([^0-9A-Za-z \\t])|(\\w+:\\/\\/\\s+)|^rt|http.+?\",\"\", ' '.join(mytokens))\n",
        "\n",
        "    # Return preprocessed list of tokens\n",
        "    return cleaned_text"
      ],
      "metadata": {
        "id": "WTaVXGsvbyyO"
      },
      "execution_count": 34,
      "outputs": []
    },
    {
      "cell_type": "markdown",
      "source": [
        "**Handling Imbalanced data**"
      ],
      "metadata": {
        "id": "6qz9WE0M2Zjl"
      }
    },
    {
      "cell_type": "code",
      "source": [
        "from sklearn.utils import resample\n",
        "import pandas as pd\n",
        "\n",
        "def upsample2(df, label_column):\n",
        "   \n",
        "   # convert the string into int\n",
        "   label_int= {\"label\": {\"NOT\":0, \"OFF\":1}}\n",
        "   df_int = df.replace(label_int, inplace=False)\n",
        "   \n",
        "   # Separate the majority and minority classes\n",
        "   majority_class=df_int[df_int[label_column]==0]\n",
        "   minority_class=df_int[df_int[label_column]==1]\n",
        "\n",
        "   # Upsample the minority class to match the number of samples in the majority class\n",
        "   minority_upsampled = resample(minority_class, replace=True, n_samples=len(majority_class), random_state=123)\n",
        "\n",
        "   # Concatenate the upsampled minority class and the majority class\n",
        "   upsampled_df = pd.concat([minority_upsampled, majority_class])\n",
        "\n",
        "   label_str= {\"label\": {0:\"NOT\", 1:\"OFF\"}}\n",
        "   df_str = upsampled_df.replace(label_str, inplace=False)\n",
        "   \n",
        "   return df_str"
      ],
      "metadata": {
        "id": "GdY2hqAc2aJe"
      },
      "execution_count": 35,
      "outputs": []
    },
    {
      "cell_type": "markdown",
      "source": [
        "**Converting data into Vectorization**"
      ],
      "metadata": {
        "id": "vfNMfl8ccImE"
      }
    },
    {
      "cell_type": "code",
      "source": [
        "def prepare_dataset2(data, vectorizer=None, split='test'):\n",
        "  if split == 'train':\n",
        "      vectorizer = TfidfVectorizer() \n",
        "      values = vectorizer.fit_transform(data['tweet'].values) #TODO: This is the best way to do this, because you need to use same vectorization method\n",
        "  else:\n",
        "      values = vectorizer.transform(data['tweet'].values)\n",
        "\n",
        "  if split == 'train':\n",
        "      return values, vectorizer\n",
        "  else:\n",
        "      return values"
      ],
      "metadata": {
        "id": "ZcoWl46VcP8y"
      },
      "execution_count": 36,
      "outputs": []
    },
    {
      "cell_type": "markdown",
      "source": [
        "**Model Initialization**"
      ],
      "metadata": {
        "id": "kVHHT4Y6cYeV"
      }
    },
    {
      "cell_type": "code",
      "source": [
        "def train_model2(text_vector,label):\n",
        "\n",
        "    print('Let\\'s start training Extra Trees Classifier')\n",
        "    classifier = ExtraTreesClassifier(n_estimators=100)\n",
        "    classifier.fit(text_vector, label)\n",
        "\n",
        "    return classifier"
      ],
      "metadata": {
        "id": "tyi7iaLXcgUy"
      },
      "execution_count": 37,
      "outputs": []
    },
    {
      "cell_type": "markdown",
      "source": [
        "**Training and validating a model using training and validation dataset**"
      ],
      "metadata": {
        "id": "4kjbL7mDdMcn"
      }
    },
    {
      "cell_type": "markdown",
      "source": [
        "Here, the train_method2 function followed a standard ML pipeline:\n",
        "* Data reading\n",
        "* Data clearning\n",
        "* Convert data to vector/tokenization/vectorization\n",
        "* Model Declaration/Initialization/building\n",
        "* Training and validation of the model using training and validation dataset\n",
        "* Save the trained model\n",
        "* Load and Test the model on testing set\n",
        "* Save the output of the model"
      ],
      "metadata": {
        "id": "eldiTEjpkrSl"
      }
    },
    {
      "cell_type": "code",
      "source": [
        "def train_method2(train_file, val_file, model_dir):\n",
        "    \"\"\"\n",
        "     Takes train_file, val_file and model_dir as input.\n",
        "     It trained on the train_file datapoints, and validate on the val_file datapoints.\n",
        "     While training and validating, it print different evaluataion metrics and losses, wheverever necessary.\n",
        "     After finishing the training, it saved the best model in the model_dir.\n",
        "\n",
        "     ADD Other arguments, if needed.\n",
        "\n",
        "    Args:\n",
        "        train_file: Train file name\n",
        "        val_file: Validation file name\n",
        "        model_dir: Model output Directory\n",
        "    \n",
        "    \"\"\"\n",
        "    train_df = pd.read_csv(train_file)\n",
        "    val_df = pd.read_csv(val_file)\n",
        "    print(\"-----------------Data Shape before sampling--------------\")\n",
        "    print(\"Train Data Shape:\", train_df.shape)\n",
        "    print(\"Valid Data Shape:\", val_df.shape)\n",
        "\n",
        "    train_df['tweet']=train_df['tweet'].apply(spacy_tokenizer2)\n",
        "    val_df['tweet']=val_df['tweet'].apply(spacy_tokenizer2)\n",
        "\n",
        "    train_df = upsample2(train_df, 'label')\n",
        "    val_df = upsample2(val_df, 'label')\n",
        "    print(\"-----------------Data Shape after sampling--------------\")\n",
        "\n",
        "    print(\"Train Data Shape:\", train_df.shape)\n",
        "    print(\"Valid Data Shape:\", val_df.shape)\n",
        "    print(\"-\"*60)\n",
        "\n",
        "    train_label = train_df['label']\n",
        "    val_label = val_df['label']\n",
        "\n",
        "    train_values, count_vectorizer = prepare_dataset2(train_df, split='train') \n",
        "    val_values= prepare_dataset2(val_df,count_vectorizer)\n",
        "\n",
        "    model = train_model2(train_values,train_label)\n",
        "\n",
        "    model_file, vectorizer_file = save_model2(model, count_vectorizer, model_dir)\n",
        "\n",
        "    train_pred_label = model.predict(train_values)\n",
        "    val_pred_label = model.predict(val_values)\n",
        "\n",
        "    # print('Train Split')\n",
        "    train_f1_score = compute_performance(train_label, train_pred_label, split='train')\n",
        "\n",
        "    # print('Validation Split')\n",
        "    val_f1_score = compute_performance(val_label, val_pred_label, split='valid')\n",
        "\n",
        "\n",
        "    return model_file, vectorizer_file"
      ],
      "metadata": {
        "id": "9lOm7dyndPPY"
      },
      "execution_count": 38,
      "outputs": []
    },
    {
      "cell_type": "markdown",
      "source": [
        "**Saving a trained model**"
      ],
      "metadata": {
        "id": "GFd0K7OOdgZo"
      }
    },
    {
      "cell_type": "code",
      "source": [
        "def save_model2(model, vectorizer, model_dir):\n",
        "    # save the model to disk\n",
        "    model_file = os.path.join(model_dir, 'model.sav')\n",
        "    pickle.dump(model, open(model_file, 'wb'))\n",
        "\n",
        "    print('Saved model to ', model_file)\n",
        "\n",
        "    vectorizer_file = os.path.join(model_dir, 'vectorizer.sav') \n",
        "    pickle.dump(vectorizer, open(vectorizer_file, 'wb'))\n",
        "\n",
        "    print('Saved Vectorizer to ', vectorizer_file)\n",
        "    print('-------------------------------------------------------------')\n",
        "\n",
        "    return model_file, vectorizer_file "
      ],
      "metadata": {
        "id": "FnuAcPzTdiRi"
      },
      "execution_count": 39,
      "outputs": []
    },
    {
      "cell_type": "markdown",
      "source": [
        "### **Training with different splitted data size**"
      ],
      "metadata": {
        "id": "i4pyBEptdr0q"
      }
    },
    {
      "cell_type": "code",
      "source": [
        "print('Train using of 25% of data')\n",
        "model_25_file, vectorizer_25_file = train_method2(train_25_file, val_file, MODEL_2_25_DIRECTORY)"
      ],
      "metadata": {
        "id": "uJkE11Gad7__",
        "colab": {
          "base_uri": "https://localhost:8080/"
        },
        "outputId": "c24fd369-4a86-45a8-b7b5-941ab3f83c43"
      },
      "execution_count": 40,
      "outputs": [
        {
          "output_type": "stream",
          "name": "stdout",
          "text": [
            "Train using of 25% of data\n",
            "-----------------Data Shape before sampling--------------\n",
            "Train Data Shape: (3079, 3)\n",
            "Valid Data Shape: (927, 3)\n",
            "-----------------Data Shape after sampling--------------\n",
            "Train Data Shape: (4070, 3)\n",
            "Valid Data Shape: (1238, 3)\n",
            "------------------------------------------------------------\n",
            "Let's start training Extra Trees Classifier\n",
            "Saved model to  gdrive/MyDrive/./CE807/Assignment2/2200940/models/2/25/model.sav\n",
            "Saved Vectorizer to  gdrive/MyDrive/./CE807/Assignment2/2200940/models/2/25/vectorizer.sav\n",
            "-------------------------------------------------------------\n",
            "Computing different preformance metrics on train set of Dataset\n",
            "------------------------------------------------------------\n",
            "F1 Score(macro):  0.9987714981040322\n",
            "Accuracy:  0.9987714987714987\n",
            "Confusion Matrix:\n",
            "[[2034    1]\n",
            " [   4 2031]]\n",
            "Precision(macro): 0.998772582738983\n",
            "Recall(macro): 0.9987714987714988\n",
            "_________________________Classification Report__________________________\n",
            "              precision    recall  f1-score   support\n",
            "\n",
            "         NOT       1.00      1.00      1.00      2035\n",
            "         OFF       1.00      1.00      1.00      2035\n",
            "\n",
            "    accuracy                           1.00      4070\n",
            "   macro avg       1.00      1.00      1.00      4070\n",
            "weighted avg       1.00      1.00      1.00      4070\n",
            "\n",
            "------------------------------------------------------------\n",
            "Computing different preformance metrics on valid set of Dataset\n",
            "------------------------------------------------------------\n",
            "F1 Score(macro):  0.654104272186743\n",
            "Accuracy:  0.6720516962843296\n",
            "Confusion Matrix:\n",
            "[[557  62]\n",
            " [344 275]]\n",
            "Precision(macro): 0.7171128683263239\n",
            "Recall(macro): 0.6720516962843296\n",
            "_________________________Classification Report__________________________\n",
            "              precision    recall  f1-score   support\n",
            "\n",
            "         NOT       0.62      0.90      0.73       619\n",
            "         OFF       0.82      0.44      0.58       619\n",
            "\n",
            "    accuracy                           0.67      1238\n",
            "   macro avg       0.72      0.67      0.65      1238\n",
            "weighted avg       0.72      0.67      0.65      1238\n",
            "\n",
            "------------------------------------------------------------\n"
          ]
        }
      ]
    },
    {
      "cell_type": "code",
      "source": [
        "print('Train using of 50% of data')\n",
        "model_50_file, vectorizer_50_file = train_method2(train_50_file, val_file, MODEL_2_50_DIRECTORY)"
      ],
      "metadata": {
        "id": "aYMTM7c8eBy3",
        "colab": {
          "base_uri": "https://localhost:8080/"
        },
        "outputId": "e16f2a45-9989-464b-8073-e9d48bf7510c"
      },
      "execution_count": 41,
      "outputs": [
        {
          "output_type": "stream",
          "name": "stdout",
          "text": [
            "Train using of 50% of data\n",
            "-----------------Data Shape before sampling--------------\n",
            "Train Data Shape: (6157, 3)\n",
            "Valid Data Shape: (927, 3)\n",
            "-----------------Data Shape after sampling--------------\n",
            "Train Data Shape: (8284, 3)\n",
            "Valid Data Shape: (1238, 3)\n",
            "------------------------------------------------------------\n",
            "Let's start training Extra Trees Classifier\n",
            "Saved model to  gdrive/MyDrive/./CE807/Assignment2/2200940/models/2/50/model.sav\n",
            "Saved Vectorizer to  gdrive/MyDrive/./CE807/Assignment2/2200940/models/2/50/vectorizer.sav\n",
            "-------------------------------------------------------------\n",
            "Computing different preformance metrics on train set of Dataset\n",
            "------------------------------------------------------------\n",
            "F1 Score(macro):  0.9985514244326412\n",
            "Accuracy:  0.9985514244326412\n",
            "Confusion Matrix:\n",
            "[[4136    6]\n",
            " [   6 4136]]\n",
            "Precision(macro): 0.9985514244326412\n",
            "Recall(macro): 0.9985514244326412\n",
            "_________________________Classification Report__________________________\n",
            "              precision    recall  f1-score   support\n",
            "\n",
            "         NOT       1.00      1.00      1.00      4142\n",
            "         OFF       1.00      1.00      1.00      4142\n",
            "\n",
            "    accuracy                           1.00      8284\n",
            "   macro avg       1.00      1.00      1.00      8284\n",
            "weighted avg       1.00      1.00      1.00      8284\n",
            "\n",
            "------------------------------------------------------------\n",
            "Computing different preformance metrics on valid set of Dataset\n",
            "------------------------------------------------------------\n",
            "F1 Score(macro):  0.6557398080362375\n",
            "Accuracy:  0.6760904684975767\n",
            "Confusion Matrix:\n",
            "[[569  50]\n",
            " [351 268]]\n",
            "Precision(macro): 0.7306227782335248\n",
            "Recall(macro): 0.6760904684975768\n",
            "_________________________Classification Report__________________________\n",
            "              precision    recall  f1-score   support\n",
            "\n",
            "         NOT       0.62      0.92      0.74       619\n",
            "         OFF       0.84      0.43      0.57       619\n",
            "\n",
            "    accuracy                           0.68      1238\n",
            "   macro avg       0.73      0.68      0.66      1238\n",
            "weighted avg       0.73      0.68      0.66      1238\n",
            "\n",
            "------------------------------------------------------------\n"
          ]
        }
      ]
    },
    {
      "cell_type": "code",
      "source": [
        "print('Train using of 75% of data')\n",
        "model_75_file, vectorizer_75_file = train_method2(train_75_file, val_file, MODEL_2_75_DIRECTORY)"
      ],
      "metadata": {
        "id": "aLMX59mAeCkS",
        "colab": {
          "base_uri": "https://localhost:8080/"
        },
        "outputId": "206332d4-1dff-4374-8445-52ff28d01696"
      },
      "execution_count": 42,
      "outputs": [
        {
          "output_type": "stream",
          "name": "stdout",
          "text": [
            "Train using of 75% of data\n",
            "-----------------Data Shape before sampling--------------\n",
            "Train Data Shape: (9235, 3)\n",
            "Valid Data Shape: (927, 3)\n",
            "-----------------Data Shape after sampling--------------\n",
            "Train Data Shape: (12354, 3)\n",
            "Valid Data Shape: (1238, 3)\n",
            "------------------------------------------------------------\n",
            "Let's start training Extra Trees Classifier\n",
            "Saved model to  gdrive/MyDrive/./CE807/Assignment2/2200940/models/2/75/model.sav\n",
            "Saved Vectorizer to  gdrive/MyDrive/./CE807/Assignment2/2200940/models/2/75/vectorizer.sav\n",
            "-------------------------------------------------------------\n",
            "Computing different preformance metrics on train set of Dataset\n",
            "------------------------------------------------------------\n",
            "F1 Score(macro):  0.9971669063658655\n",
            "Accuracy:  0.997166909502995\n",
            "Confusion Matrix:\n",
            "[[6166   11]\n",
            " [  24 6153]]\n",
            "Precision(macro): 0.9971691115959151\n",
            "Recall(macro): 0.9971669095029949\n",
            "_________________________Classification Report__________________________\n",
            "              precision    recall  f1-score   support\n",
            "\n",
            "         NOT       1.00      1.00      1.00      6177\n",
            "         OFF       1.00      1.00      1.00      6177\n",
            "\n",
            "    accuracy                           1.00     12354\n",
            "   macro avg       1.00      1.00      1.00     12354\n",
            "weighted avg       1.00      1.00      1.00     12354\n",
            "\n",
            "------------------------------------------------------------\n",
            "Computing different preformance metrics on valid set of Dataset\n",
            "------------------------------------------------------------\n",
            "F1 Score(macro):  0.6721224641135654\n",
            "Accuracy:  0.6890145395799677\n",
            "Confusion Matrix:\n",
            "[[567  52]\n",
            " [333 286]]\n",
            "Precision(macro): 0.7380769230769231\n",
            "Recall(macro): 0.6890145395799677\n",
            "_________________________Classification Report__________________________\n",
            "              precision    recall  f1-score   support\n",
            "\n",
            "         NOT       0.63      0.92      0.75       619\n",
            "         OFF       0.85      0.46      0.60       619\n",
            "\n",
            "    accuracy                           0.69      1238\n",
            "   macro avg       0.74      0.69      0.67      1238\n",
            "weighted avg       0.74      0.69      0.67      1238\n",
            "\n",
            "------------------------------------------------------------\n"
          ]
        }
      ]
    },
    {
      "cell_type": "code",
      "source": [
        "print('Train using of 100% of data')\n",
        "model_100_file, vectorizer_100_file = train_method2(train_100_file, val_file, MODEL_2_100_DIRECTORY)"
      ],
      "metadata": {
        "id": "MxxPoXdLeDPB",
        "colab": {
          "base_uri": "https://localhost:8080/"
        },
        "outputId": "339a7da3-9ad2-4ce5-f2cd-778ae3d4592f"
      },
      "execution_count": 43,
      "outputs": [
        {
          "output_type": "stream",
          "name": "stdout",
          "text": [
            "Train using of 100% of data\n",
            "-----------------Data Shape before sampling--------------\n",
            "Train Data Shape: (12313, 3)\n",
            "Valid Data Shape: (927, 3)\n",
            "-----------------Data Shape after sampling--------------\n",
            "Train Data Shape: (16442, 3)\n",
            "Valid Data Shape: (1238, 3)\n",
            "------------------------------------------------------------\n",
            "Let's start training Extra Trees Classifier\n",
            "Saved model to  gdrive/MyDrive/./CE807/Assignment2/2200940/models/2/100/model.sav\n",
            "Saved Vectorizer to  gdrive/MyDrive/./CE807/Assignment2/2200940/models/2/100/vectorizer.sav\n",
            "-------------------------------------------------------------\n",
            "Computing different preformance metrics on train set of Dataset\n",
            "------------------------------------------------------------\n",
            "F1 Score(macro):  0.9967157272361067\n",
            "Accuracy:  0.9967157280136236\n",
            "Confusion Matrix:\n",
            "[[8198   23]\n",
            " [  31 8190]]\n",
            "Precision(macro): 0.9967161983829583\n",
            "Recall(macro): 0.9967157280136236\n",
            "_________________________Classification Report__________________________\n",
            "              precision    recall  f1-score   support\n",
            "\n",
            "         NOT       1.00      1.00      1.00      8221\n",
            "         OFF       1.00      1.00      1.00      8221\n",
            "\n",
            "    accuracy                           1.00     16442\n",
            "   macro avg       1.00      1.00      1.00     16442\n",
            "weighted avg       1.00      1.00      1.00     16442\n",
            "\n",
            "------------------------------------------------------------\n",
            "Computing different preformance metrics on valid set of Dataset\n",
            "------------------------------------------------------------\n",
            "F1 Score(macro):  0.6893188614207009\n",
            "Accuracy:  0.7035541195476576\n",
            "Confusion Matrix:\n",
            "[[568  51]\n",
            " [316 303]]\n",
            "Precision(macro): 0.7492330700207072\n",
            "Recall(macro): 0.7035541195476575\n",
            "_________________________Classification Report__________________________\n",
            "              precision    recall  f1-score   support\n",
            "\n",
            "         NOT       0.64      0.92      0.76       619\n",
            "         OFF       0.86      0.49      0.62       619\n",
            "\n",
            "    accuracy                           0.70      1238\n",
            "   macro avg       0.75      0.70      0.69      1238\n",
            "weighted avg       0.75      0.70      0.69      1238\n",
            "\n",
            "------------------------------------------------------------\n"
          ]
        }
      ]
    },
    {
      "cell_type": "markdown",
      "source": [
        "### Testing code"
      ],
      "metadata": {
        "id": "onmjQKhAhRLV"
      }
    },
    {
      "cell_type": "markdown",
      "source": [
        "**Loading a model and vectorizer from disk**"
      ],
      "metadata": {
        "id": "6pJE-SdThcMl"
      }
    },
    {
      "cell_type": "code",
      "source": [
        "def load_model2(model_file, vectorizer_file):\n",
        "    # load model and vectorizer from disk\n",
        "\n",
        "    model = pickle.load(open(model_file, 'rb'))\n",
        "\n",
        "    print('Loaded model from ', model_file)\n",
        "\n",
        "    vectorizer = pickle.load(open(vectorizer_file, 'rb'))\n",
        "\n",
        "    print('Loaded Vectorizer from ', vectorizer_file)\n",
        "    print('-'*60)\n",
        "\n",
        "\n",
        "    return model, vectorizer"
      ],
      "metadata": {
        "id": "lgcS6BClhUGN"
      },
      "execution_count": 44,
      "outputs": []
    },
    {
      "cell_type": "markdown",
      "source": [
        "**Testing the model on testing set and saving the output of the model**"
      ],
      "metadata": {
        "id": "yQwbbTithwGI"
      }
    },
    {
      "cell_type": "code",
      "source": [
        "def test_method2(test_file, model_file, vectorizer_file, output_dir):\n",
        "    \"\"\"\n",
        "     take test_file, model_file and output_dir as input.\n",
        "     It loads model and test of the examples in the test_file.\n",
        "     It prints different evaluation metrics, and saves the output in output directory\n",
        "\n",
        "     ADD Other arguments, if needed\n",
        "\n",
        "    Args:\n",
        "        test_file: Test file name\n",
        "        model_file: Model file name\n",
        "        vectorizer_file: Vectorizer file name\n",
        "        output_dir: Output Directory\n",
        "    \n",
        "    \"\"\"\n",
        "\n",
        "    test_df = pd.read_csv(test_file)\n",
        "    \n",
        "    test_df['tweet']=test_df['tweet'].apply(spacy_tokenizer2)\n",
        "    \n",
        "    test_df = upsample2(test_df, 'label')\n",
        "    \n",
        "    test_label = test_df['label']\n",
        "\n",
        "    model, vectorizer = load_model2(model_file, vectorizer_file) \n",
        "\n",
        "    test_values= prepare_dataset2(test_df,vectorizer)\n",
        "\n",
        "    test_pred_label = model.predict(test_values)\n",
        "\n",
        "    test_df['out_label']  = test_pred_label # Note how this is saved \n",
        "\n",
        "    test_f1_score = compute_performance(test_label, test_pred_label, split='test')\n",
        "\n",
        "    out_file = os.path.join(output_dir, 'output_test.csv')\n",
        "\n",
        "    print('Saving model output to', out_file)\n",
        "    test_df.to_csv(out_file)\n",
        "\n",
        "    \n",
        "    # return "
      ],
      "metadata": {
        "id": "lRL-skiyhx1S"
      },
      "execution_count": 45,
      "outputs": []
    },
    {
      "cell_type": "markdown",
      "source": [
        "**Testing with different splitted data size**"
      ],
      "metadata": {
        "id": "k6seY3MAiYH3"
      }
    },
    {
      "cell_type": "code",
      "source": [
        "print('Testing using model trained on 25% data')\n",
        "test_method2(test_file, model_25_file, vectorizer_25_file, MODEL_2_25_DIRECTORY)"
      ],
      "metadata": {
        "id": "4piFBfrEieNw",
        "colab": {
          "base_uri": "https://localhost:8080/"
        },
        "outputId": "36611bf4-2ae9-4863-bda3-75af50269843"
      },
      "execution_count": 46,
      "outputs": [
        {
          "output_type": "stream",
          "name": "stdout",
          "text": [
            "Testing using model trained on 25% data\n",
            "Loaded model from  gdrive/MyDrive/./CE807/Assignment2/2200940/models/2/25/model.sav\n",
            "Loaded Vectorizer from  gdrive/MyDrive/./CE807/Assignment2/2200940/models/2/25/vectorizer.sav\n",
            "------------------------------------------------------------\n",
            "Computing different preformance metrics on test set of Dataset\n",
            "------------------------------------------------------------\n",
            "F1 Score(macro):  0.6473923672416135\n",
            "Accuracy:  0.6758064516129032\n",
            "Confusion Matrix:\n",
            "[[595  25]\n",
            " [377 243]]\n",
            "Precision(macro): 0.7594281678029605\n",
            "Recall(macro): 0.6758064516129032\n",
            "_________________________Classification Report__________________________\n",
            "              precision    recall  f1-score   support\n",
            "\n",
            "         NOT       0.61      0.96      0.75       620\n",
            "         OFF       0.91      0.39      0.55       620\n",
            "\n",
            "    accuracy                           0.68      1240\n",
            "   macro avg       0.76      0.68      0.65      1240\n",
            "weighted avg       0.76      0.68      0.65      1240\n",
            "\n",
            "------------------------------------------------------------\n",
            "Saving model output to gdrive/MyDrive/./CE807/Assignment2/2200940/models/2/25/output_test.csv\n"
          ]
        }
      ]
    },
    {
      "cell_type": "code",
      "source": [
        "print('Testing using model trained on 50% data')\n",
        "test_method2(test_file, model_50_file, vectorizer_50_file, MODEL_2_50_DIRECTORY)"
      ],
      "metadata": {
        "id": "HVYJIJqkjMK6",
        "colab": {
          "base_uri": "https://localhost:8080/"
        },
        "outputId": "c19cee70-64fb-46e2-8716-f7d7b3f841ba"
      },
      "execution_count": 47,
      "outputs": [
        {
          "output_type": "stream",
          "name": "stdout",
          "text": [
            "Testing using model trained on 50% data\n",
            "Loaded model from  gdrive/MyDrive/./CE807/Assignment2/2200940/models/2/50/model.sav\n",
            "Loaded Vectorizer from  gdrive/MyDrive/./CE807/Assignment2/2200940/models/2/50/vectorizer.sav\n",
            "------------------------------------------------------------\n",
            "Computing different preformance metrics on test set of Dataset\n",
            "------------------------------------------------------------\n",
            "F1 Score(macro):  0.6515939682650334\n",
            "Accuracy:  0.6814516129032258\n",
            "Confusion Matrix:\n",
            "[[604  16]\n",
            " [379 241]]\n",
            "Precision(macro): 0.7760943827162937\n",
            "Recall(macro): 0.6814516129032259\n",
            "_________________________Classification Report__________________________\n",
            "              precision    recall  f1-score   support\n",
            "\n",
            "         NOT       0.61      0.97      0.75       620\n",
            "         OFF       0.94      0.39      0.55       620\n",
            "\n",
            "    accuracy                           0.68      1240\n",
            "   macro avg       0.78      0.68      0.65      1240\n",
            "weighted avg       0.78      0.68      0.65      1240\n",
            "\n",
            "------------------------------------------------------------\n",
            "Saving model output to gdrive/MyDrive/./CE807/Assignment2/2200940/models/2/50/output_test.csv\n"
          ]
        }
      ]
    },
    {
      "cell_type": "code",
      "source": [
        "print('Testing using model trained on 75% data')\n",
        "test_method2(test_file, model_75_file, vectorizer_75_file, MODEL_2_75_DIRECTORY)"
      ],
      "metadata": {
        "id": "YyX3ywCujMTU",
        "colab": {
          "base_uri": "https://localhost:8080/"
        },
        "outputId": "43786402-5aec-4400-c08f-a6f11cca0164"
      },
      "execution_count": 48,
      "outputs": [
        {
          "output_type": "stream",
          "name": "stdout",
          "text": [
            "Testing using model trained on 75% data\n",
            "Loaded model from  gdrive/MyDrive/./CE807/Assignment2/2200940/models/2/75/model.sav\n",
            "Loaded Vectorizer from  gdrive/MyDrive/./CE807/Assignment2/2200940/models/2/75/vectorizer.sav\n",
            "------------------------------------------------------------\n",
            "Computing different preformance metrics on test set of Dataset\n",
            "------------------------------------------------------------\n",
            "F1 Score(macro):  0.6638465622211429\n",
            "Accuracy:  0.6903225806451613\n",
            "Confusion Matrix:\n",
            "[[602  18]\n",
            " [366 254]]\n",
            "Precision(macro): 0.7778621779290229\n",
            "Recall(macro): 0.6903225806451613\n",
            "_________________________Classification Report__________________________\n",
            "              precision    recall  f1-score   support\n",
            "\n",
            "         NOT       0.62      0.97      0.76       620\n",
            "         OFF       0.93      0.41      0.57       620\n",
            "\n",
            "    accuracy                           0.69      1240\n",
            "   macro avg       0.78      0.69      0.66      1240\n",
            "weighted avg       0.78      0.69      0.66      1240\n",
            "\n",
            "------------------------------------------------------------\n",
            "Saving model output to gdrive/MyDrive/./CE807/Assignment2/2200940/models/2/75/output_test.csv\n"
          ]
        }
      ]
    },
    {
      "cell_type": "code",
      "source": [
        "print('Testing using model trained on 100% data')\n",
        "test_method2(test_file, model_100_file, vectorizer_100_file, MODEL_2_100_DIRECTORY)"
      ],
      "metadata": {
        "id": "mtOEB0iAjMci",
        "colab": {
          "base_uri": "https://localhost:8080/"
        },
        "outputId": "034bf6fe-29e6-463c-eebb-ca3c42946561"
      },
      "execution_count": 49,
      "outputs": [
        {
          "output_type": "stream",
          "name": "stdout",
          "text": [
            "Testing using model trained on 100% data\n",
            "Loaded model from  gdrive/MyDrive/./CE807/Assignment2/2200940/models/2/100/model.sav\n",
            "Loaded Vectorizer from  gdrive/MyDrive/./CE807/Assignment2/2200940/models/2/100/vectorizer.sav\n",
            "------------------------------------------------------------\n",
            "Computing different preformance metrics on test set of Dataset\n",
            "------------------------------------------------------------\n",
            "F1 Score(macro):  0.6817665748900215\n",
            "Accuracy:  0.7032258064516129\n",
            "Confusion Matrix:\n",
            "[[597  23]\n",
            " [345 275]]\n",
            "Precision(macro): 0.7782883768648741\n",
            "Recall(macro): 0.7032258064516129\n",
            "_________________________Classification Report__________________________\n",
            "              precision    recall  f1-score   support\n",
            "\n",
            "         NOT       0.63      0.96      0.76       620\n",
            "         OFF       0.92      0.44      0.60       620\n",
            "\n",
            "    accuracy                           0.70      1240\n",
            "   macro avg       0.78      0.70      0.68      1240\n",
            "weighted avg       0.78      0.70      0.68      1240\n",
            "\n",
            "------------------------------------------------------------\n",
            "Saving model output to gdrive/MyDrive/./CE807/Assignment2/2200940/models/2/100/output_test.csv\n"
          ]
        }
      ]
    },
    {
      "cell_type": "markdown",
      "source": [
        "# **Model Selection**"
      ],
      "metadata": {
        "id": "lA9TsYuiZa0y"
      }
    },
    {
      "cell_type": "markdown",
      "source": [
        "**Note:** I have runned all these below given codes in each seperate files to select a best model by evaluating their:\n",
        "* score\n",
        "* training time\n",
        "* prediction time\n",
        "* confusion_matrix.\n",
        "\n",
        "While running along with the above two models, my session was crashed after using all available RAM. So, I have just given below the used codes for model selection. "
      ],
      "metadata": {
        "id": "kCo9jP5YtSBJ"
      }
    },
    {
      "cell_type": "code",
      "source": [
        "\"\"\"\n",
        "import pandas as pd\n",
        "import seaborn as sns\n",
        "from sklearn.neural_network import MLPClassifier\n",
        "from sklearn.neighbors import KNeighborsClassifier\n",
        "from sklearn.svm import SVC\n",
        "from sklearn.gaussian_process import GaussianProcessClassifier\n",
        "from sklearn.ensemble import GradientBoostingClassifier\n",
        "from sklearn.gaussian_process.kernels import RBF\n",
        "from sklearn.tree import DecisionTreeClassifier\n",
        "from sklearn.ensemble import ExtraTreesClassifier\n",
        "from sklearn.ensemble import RandomForestClassifier, AdaBoostClassifier\n",
        "from sklearn.naive_bayes import GaussianNB\n",
        "from sklearn.discriminant_analysis import QuadraticDiscriminantAnalysis\n",
        "from sklearn.linear_model import SGDClassifier\n",
        "!pip install -U sentence-transformers -q\n",
        "from sentence_transformers import SentenceTransformer\n",
        "model = SentenceTransformer('all-MiniLM-L6-v2')\n",
        "\"\"\""
      ],
      "metadata": {
        "id": "F-HITxzFZZi4"
      },
      "execution_count": null,
      "outputs": []
    },
    {
      "cell_type": "code",
      "source": [
        "\"\"\"\n",
        "names = [\"Nearest_Neighbors\", \"Linear_SVM\", \"Polynomial_SVM\", \"RBF_SVM\", \"Gaussian_Process\",\n",
        "         \"Gradient_Boosting\", \"Decision_Tree\", \"Extra_Trees\", \"Random_Forest\", \"Neural_Net\", \"AdaBoost\",\n",
        "         \"Naive_Bayes\", \"QDA\", \"SGD\"]\n",
        "\n",
        "classifiers = [\n",
        "    KNeighborsClassifier(3),\n",
        "    SVC(kernel=\"linear\", C=0.025),\n",
        "    SVC(kernel=\"poly\", degree=3, C=0.025),\n",
        "    SVC(kernel=\"rbf\", C=1, gamma=2),\n",
        "    GaussianProcessClassifier(1.0 * RBF(1.0)),\n",
        "    GradientBoostingClassifier(n_estimators=100, learning_rate=1.0),\n",
        "    DecisionTreeClassifier(max_depth=5),\n",
        "    ExtraTreesClassifier(n_estimators=10, min_samples_split=2),\n",
        "    RandomForestClassifier(max_depth=5, n_estimators=100),\n",
        "    MLPClassifier(alpha=1, max_iter=1000),\n",
        "    AdaBoostClassifier(n_estimators=100),\n",
        "    GaussianNB(),\n",
        "    QuadraticDiscriminantAnalysis(),\n",
        "    SGDClassifier(loss=\"hinge\", penalty=\"l2\")]\n",
        "    \"\"\""
      ],
      "metadata": {
        "id": "dUL6A56JZfNv"
      },
      "execution_count": null,
      "outputs": []
    },
    {
      "cell_type": "code",
      "source": [
        "\"\"\"\n",
        "# read in the train, validation, and test data sets as separate data frames\n",
        "train_data = pd.read_csv(train_file)\n",
        "valid_data = pd.read_csv(val_file)\n",
        "test_data = pd.read_csv(test_file)\n",
        "\n",
        "# concatenate the train and validation data frames vertically\n",
        "combined_data = pd.concat([train_data, valid_data], ignore_index=True)\n",
        "\"\"\"\n"
      ],
      "metadata": {
        "id": "qRWBEdbIbAbi"
      },
      "execution_count": null,
      "outputs": []
    },
    {
      "cell_type": "code",
      "source": [
        "\"\"\"\n",
        "combined_data['tweet']=combined_data['tweet'].apply(spacy_tokenizer2)\n",
        "combined_data\n",
        "\"\"\""
      ],
      "metadata": {
        "id": "cRuKQgKTcl8I"
      },
      "execution_count": null,
      "outputs": []
    },
    {
      "cell_type": "code",
      "source": [
        "\"\"\"\n",
        "combined_data = upsample2(combined_data, 'label')\n",
        "combined_data.shape\n",
        "\"\"\""
      ],
      "metadata": {
        "id": "o1ye6IMOc2lT"
      },
      "execution_count": null,
      "outputs": []
    },
    {
      "cell_type": "code",
      "source": [
        "\"\"\"\n",
        "combined_data['tweet'] = combined_data['tweet'].apply(model.encode)\n",
        "combined_data.head()\n",
        "\"\"\""
      ],
      "metadata": {
        "id": "dZ8i0_kHdj4l"
      },
      "execution_count": null,
      "outputs": []
    },
    {
      "cell_type": "code",
      "source": [
        "\"\"\"\n",
        "# convert the string into int\n",
        "label_int= {\"label\": {\"NOT\":0, \"OFF\":1}}\n",
        "combined_data_int = combined_data.replace(label_int, inplace=False)\n",
        "\"\"\""
      ],
      "metadata": {
        "id": "KvoniV-jjGL4"
      },
      "execution_count": null,
      "outputs": []
    },
    {
      "cell_type": "code",
      "source": [
        "\"\"\"\n",
        "X =combined_data_int['tweet'].to_list()\n",
        "Y = combined_data_int['label'].to_list()\n",
        "\"\"\""
      ],
      "metadata": {
        "id": "50_04twQeDQk"
      },
      "execution_count": null,
      "outputs": []
    },
    {
      "cell_type": "code",
      "source": [
        "\"\"\"\n",
        "# split the combined data into training and testing sets\n",
        "X_train, X_test, Y_train, Y_test = train_test_split(X, Y, test_size=0.2,stratify=Y, \n",
        "                                                    random_state=2200940)\n",
        "                                                    \"\"\""
      ],
      "metadata": {
        "id": "WJUvqLPMchOH"
      },
      "execution_count": null,
      "outputs": []
    },
    {
      "cell_type": "code",
      "source": [
        "\"\"\"\n",
        "scores = []\n",
        "for name, clf in zip(names, classifiers):\n",
        "    #clf.fit(x_train, y_train)\n",
        "    #score = clf.score(x_test, y_test)\n",
        "    #scores.append(score)\n",
        "\n",
        "scores\n",
        "\"\"\""
      ],
      "metadata": {
        "id": "Ev24zm2GoBne"
      },
      "execution_count": null,
      "outputs": []
    },
    {
      "cell_type": "code",
      "source": [
        "\"\"\"\n",
        "head = 10\n",
        "for model in classifiers[:head]:\n",
        "    start = time()\n",
        "    model.fit(X_train, Y_train)\n",
        "    train_time = time() - start\n",
        "    start = time()\n",
        "    Y_pred = model.predict(X_test)\n",
        "    predict_time = time()-start    \n",
        "    print(model)\n",
        "    print(\"\\tTraining time: %0.3fs\" % train_time)\n",
        "    print(\"\\tPrediction time: %0.3fs\" % predict_time)\n",
        "    print(\"\\tAccuracy :\", accuracy_score(Y_test, Y_pred))\n",
        "    print(\"\\tf1_score:\", f1_score(Y_test, Y_pred))\n",
        "    print(\"\\tConfusion Matrix:\", confusion_matrix(Y_test, Y_pred))\n",
        "    print()\n",
        "\"\"\""
      ],
      "metadata": {
        "id": "xH6C24KtZjEr"
      },
      "execution_count": null,
      "outputs": []
    },
    {
      "cell_type": "code",
      "source": [
        "\"\"\"\n",
        "df = pd.DataFrame()\n",
        "df['name'] = names\n",
        "df['score'] = scores\n",
        "df\n",
        "\"\"\""
      ],
      "metadata": {
        "id": "VKxXs_iXwhml"
      },
      "execution_count": null,
      "outputs": []
    },
    {
      "cell_type": "code",
      "source": [
        "\"\"\"\n",
        "cm = sns.light_palette(\"green\", as_cmap=True)\n",
        "s = df.style.background_gradient(cmap=cm)\n",
        "s\n",
        "\"\"\""
      ],
      "metadata": {
        "id": "IPKKP38gwkkn"
      },
      "execution_count": null,
      "outputs": []
    },
    {
      "cell_type": "code",
      "source": [
        "\"\"\"\n",
        "sns.set(style=\"whitegrid\")\n",
        "ax = sns.barplot(y=\"name\", x=\"score\", data=df)\n",
        "\"\"\""
      ],
      "metadata": {
        "id": "ZCVGlZ37xGOp"
      },
      "execution_count": null,
      "outputs": []
    }
  ]
}